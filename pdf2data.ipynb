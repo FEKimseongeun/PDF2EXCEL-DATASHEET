{
  "cells": [
    {
      "cell_type": "code",
      "execution_count": 2,
      "metadata": {
        "colab": {
          "base_uri": "https://localhost:8080/"
        },
        "id": "KhAwzIE48q3G",
        "outputId": "5fd7bf4f-3bdf-4c7a-ad5e-f245b3e2213b"
      },
      "outputs": [
        {
          "output_type": "stream",
          "name": "stdout",
          "text": [
            "Collecting pdf2image\n",
            "  Downloading pdf2image-1.17.0-py3-none-any.whl (11 kB)\n",
            "Requirement already satisfied: pillow in /usr/local/lib/python3.10/dist-packages (from pdf2image) (9.4.0)\n",
            "Installing collected packages: pdf2image\n",
            "Successfully installed pdf2image-1.17.0\n"
          ]
        }
      ],
      "source": [
        "!pip install pdf2image"
      ]
    },
    {
      "cell_type": "code",
      "execution_count": 3,
      "metadata": {
        "id": "TnryCpcT8ybq"
      },
      "outputs": [],
      "source": [
        "from pdf2image import convert_from_path"
      ]
    },
    {
      "cell_type": "code",
      "execution_count": 4,
      "metadata": {
        "colab": {
          "base_uri": "https://localhost:8080/"
        },
        "id": "UD8YfNxUD5yF",
        "outputId": "fd011c94-aa70-4ad3-98ed-e48ccf8ab618"
      },
      "outputs": [
        {
          "output_type": "stream",
          "name": "stdout",
          "text": [
            "Requirement already satisfied: python-dateutil in /usr/local/lib/python3.10/dist-packages (2.8.2)\n",
            "Requirement already satisfied: six>=1.5 in /usr/local/lib/python3.10/dist-packages (from python-dateutil) (1.16.0)\n"
          ]
        }
      ],
      "source": [
        "!pip install python-dateutil"
      ]
    },
    {
      "cell_type": "code",
      "execution_count": 5,
      "metadata": {
        "colab": {
          "base_uri": "https://localhost:8080/"
        },
        "id": "Ri8k_o9iFgBJ",
        "outputId": "9645371c-7b19-491c-87ee-6b41c7e6887c"
      },
      "outputs": [
        {
          "output_type": "stream",
          "name": "stdout",
          "text": [
            "Reading package lists... Done\n",
            "Building dependency tree... Done\n",
            "Reading state information... Done\n",
            "The following NEW packages will be installed:\n",
            "  poppler-utils\n",
            "0 upgraded, 1 newly installed, 0 to remove and 24 not upgraded.\n",
            "Need to get 186 kB of archives.\n",
            "After this operation, 696 kB of additional disk space will be used.\n",
            "Get:1 http://archive.ubuntu.com/ubuntu jammy-updates/main amd64 poppler-utils amd64 22.02.0-2ubuntu0.3 [186 kB]\n",
            "Fetched 186 kB in 1s (205 kB/s)\n",
            "Selecting previously unselected package poppler-utils.\n",
            "(Reading database ... 121654 files and directories currently installed.)\n",
            "Preparing to unpack .../poppler-utils_22.02.0-2ubuntu0.3_amd64.deb ...\n",
            "Unpacking poppler-utils (22.02.0-2ubuntu0.3) ...\n",
            "Setting up poppler-utils (22.02.0-2ubuntu0.3) ...\n",
            "Processing triggers for man-db (2.10.2-1) ...\n"
          ]
        }
      ],
      "source": [
        "!apt-get install poppler-utils"
      ]
    },
    {
      "cell_type": "code",
      "execution_count": 7,
      "metadata": {
        "id": "QrJ2mK0T9s5c"
      },
      "outputs": [],
      "source": [
        "images= convert_from_path('test.pdf')"
      ]
    },
    {
      "cell_type": "code",
      "execution_count": 8,
      "metadata": {
        "id": "yXoTZAQdDT2t"
      },
      "outputs": [],
      "source": [
        "!mkdir pages"
      ]
    },
    {
      "cell_type": "code",
      "execution_count": 9,
      "metadata": {
        "id": "9L7bHgDWFoR6"
      },
      "outputs": [],
      "source": [
        "for i in range(len(images)):\n",
        "  images[i].save('pages/page'+str(i)+'.jpg','JPEG')"
      ]
    },
    {
      "cell_type": "code",
      "source": [
        "!wget https://paddleocr.bj.bcebos.com/whl/layoutparser-0.0.0-py3-none-any.whl\n",
        "!pip install -U layoutparser-0.0.0-py3-none-any.whl"
      ],
      "metadata": {
        "colab": {
          "base_uri": "https://localhost:8080/"
        },
        "id": "RePinCng2gO0",
        "outputId": "172e6de6-df27-41c8-8710-431cdf798134"
      },
      "execution_count": 1,
      "outputs": [
        {
          "output_type": "stream",
          "name": "stdout",
          "text": [
            "--2024-01-10 05:30:56--  https://paddleocr.bj.bcebos.com/whl/layoutparser-0.0.0-py3-none-any.whl\n",
            "Resolving paddleocr.bj.bcebos.com (paddleocr.bj.bcebos.com)... 103.235.46.61, 2409:8c04:1001:1002:0:ff:b001:368a\n",
            "Connecting to paddleocr.bj.bcebos.com (paddleocr.bj.bcebos.com)|103.235.46.61|:443... connected.\n",
            "HTTP request sent, awaiting response... 200 OK\n",
            "Length: 19145360 (18M) [application/octet-stream]\n",
            "Saving to: ‘layoutparser-0.0.0-py3-none-any.whl’\n",
            "\n",
            "layoutparser-0.0.0- 100%[===================>]  18.26M  3.46MB/s    in 13s     \n",
            "\n",
            "2024-01-10 05:31:10 (1.44 MB/s) - ‘layoutparser-0.0.0-py3-none-any.whl’ saved [19145360/19145360]\n",
            "\n",
            "Processing ./layoutparser-0.0.0-py3-none-any.whl\n",
            "Requirement already satisfied: numpy in /usr/local/lib/python3.10/dist-packages (from layoutparser==0.0.0) (1.23.5)\n",
            "Requirement already satisfied: opencv-python in /usr/local/lib/python3.10/dist-packages (from layoutparser==0.0.0) (4.8.0.76)\n",
            "Requirement already satisfied: pandas in /usr/local/lib/python3.10/dist-packages (from layoutparser==0.0.0) (1.5.3)\n",
            "Requirement already satisfied: pillow in /usr/local/lib/python3.10/dist-packages (from layoutparser==0.0.0) (9.4.0)\n",
            "Requirement already satisfied: pyyaml>=5.1 in /usr/local/lib/python3.10/dist-packages (from layoutparser==0.0.0) (6.0.1)\n",
            "Collecting iopath (from layoutparser==0.0.0)\n",
            "  Downloading iopath-0.1.10.tar.gz (42 kB)\n",
            "\u001b[2K     \u001b[90m━━━━━━━━━━━━━━━━━━━━━━━━━━━━━━━━━━━━━━━━\u001b[0m \u001b[32m42.2/42.2 kB\u001b[0m \u001b[31m1.5 MB/s\u001b[0m eta \u001b[36m0:00:00\u001b[0m\n",
            "\u001b[?25h  Preparing metadata (setup.py) ... \u001b[?25l\u001b[?25hdone\n",
            "Requirement already satisfied: tqdm in /usr/local/lib/python3.10/dist-packages (from layoutparser==0.0.0) (4.66.1)\n",
            "Requirement already satisfied: typing_extensions in /usr/local/lib/python3.10/dist-packages (from iopath->layoutparser==0.0.0) (4.5.0)\n",
            "Collecting portalocker (from iopath->layoutparser==0.0.0)\n",
            "  Downloading portalocker-2.8.2-py3-none-any.whl (17 kB)\n",
            "Requirement already satisfied: python-dateutil>=2.8.1 in /usr/local/lib/python3.10/dist-packages (from pandas->layoutparser==0.0.0) (2.8.2)\n",
            "Requirement already satisfied: pytz>=2020.1 in /usr/local/lib/python3.10/dist-packages (from pandas->layoutparser==0.0.0) (2023.3.post1)\n",
            "Requirement already satisfied: six>=1.5 in /usr/local/lib/python3.10/dist-packages (from python-dateutil>=2.8.1->pandas->layoutparser==0.0.0) (1.16.0)\n",
            "Building wheels for collected packages: iopath\n",
            "  Building wheel for iopath (setup.py) ... \u001b[?25l\u001b[?25hdone\n",
            "  Created wheel for iopath: filename=iopath-0.1.10-py3-none-any.whl size=31532 sha256=ddb2f2dec49f8f6de58e3a83b5d283cb9b868c0736229aa16cdbfbe6b9246e1a\n",
            "  Stored in directory: /root/.cache/pip/wheels/9a/a3/b6/ac0fcd1b4ed5cfeb3db92e6a0e476cfd48ed0df92b91080c1d\n",
            "Successfully built iopath\n",
            "Installing collected packages: portalocker, iopath, layoutparser\n",
            "Successfully installed iopath-0.1.10 layoutparser-0.0.0 portalocker-2.8.2\n"
          ]
        }
      ]
    },
    {
      "cell_type": "code",
      "source": [
        "!pip3 install --upgrade pip"
      ],
      "metadata": {
        "colab": {
          "base_uri": "https://localhost:8080/"
        },
        "id": "KyWXDBCu4iAV",
        "outputId": "5ebcbd2b-d07b-4e01-91a1-1c16d9e1d754"
      },
      "execution_count": 21,
      "outputs": [
        {
          "output_type": "stream",
          "name": "stdout",
          "text": [
            "Requirement already satisfied: pip in /usr/local/lib/python3.10/dist-packages (23.1.2)\n",
            "Collecting pip\n",
            "  Downloading pip-23.3.2-py3-none-any.whl (2.1 MB)\n",
            "\u001b[2K     \u001b[90m━━━━━━━━━━━━━━━━━━━━━━━━━━━━━━━━━━━━━━━━\u001b[0m \u001b[32m2.1/2.1 MB\u001b[0m \u001b[31m9.3 MB/s\u001b[0m eta \u001b[36m0:00:00\u001b[0m\n",
            "\u001b[?25hInstalling collected packages: pip\n",
            "  Attempting uninstall: pip\n",
            "    Found existing installation: pip 23.1.2\n",
            "    Uninstalling pip-23.1.2:\n",
            "      Successfully uninstalled pip-23.1.2\n",
            "Successfully installed pip-23.3.2\n"
          ]
        }
      ]
    },
    {
      "cell_type": "code",
      "source": [
        "!pip3 install \"paddlepaddle-gpu>=2.3\" -i https://mirror.baidu.com/pypi/simple"
      ],
      "metadata": {
        "colab": {
          "base_uri": "https://localhost:8080/"
        },
        "id": "NXyQoYKQ5kQd",
        "outputId": "a9a9e0c9-70fb-44c7-d974-bdefd1e03ba8"
      },
      "execution_count": 22,
      "outputs": [
        {
          "output_type": "stream",
          "name": "stdout",
          "text": [
            "Looking in indexes: https://mirror.baidu.com/pypi/simple\n",
            "Collecting paddlepaddle-gpu>=2.3\n",
            "  Downloading https://mirror.baidu.com/pypi/packages/6b/9b/634ab295b004116c7717e226dbb1b52bd9c90b87b7acbf3470e8224c5815/paddlepaddle_gpu-2.6.0-cp310-cp310-manylinux1_x86_64.whl (749.8 MB)\n",
            "\u001b[2K     \u001b[90m━━━━━━━━━━━━━━━━━━━━━━━━━━━━━━━━━━━━━━━━\u001b[0m \u001b[32m749.8/749.8 MB\u001b[0m \u001b[31m2.3 MB/s\u001b[0m eta \u001b[36m0:00:00\u001b[0m\n",
            "\u001b[?25hRequirement already satisfied: httpx in /usr/local/lib/python3.10/dist-packages (from paddlepaddle-gpu>=2.3) (0.26.0)\n",
            "Requirement already satisfied: numpy>=1.13 in /usr/local/lib/python3.10/dist-packages (from paddlepaddle-gpu>=2.3) (1.23.5)\n",
            "Requirement already satisfied: Pillow in /usr/local/lib/python3.10/dist-packages (from paddlepaddle-gpu>=2.3) (9.4.0)\n",
            "Requirement already satisfied: decorator in /usr/local/lib/python3.10/dist-packages (from paddlepaddle-gpu>=2.3) (4.4.2)\n",
            "Requirement already satisfied: astor in /usr/local/lib/python3.10/dist-packages (from paddlepaddle-gpu>=2.3) (0.8.1)\n",
            "Requirement already satisfied: opt-einsum==3.3.0 in /usr/local/lib/python3.10/dist-packages (from paddlepaddle-gpu>=2.3) (3.3.0)\n",
            "Requirement already satisfied: protobuf>=3.20.2 in /usr/local/lib/python3.10/dist-packages (from paddlepaddle-gpu>=2.3) (3.20.3)\n",
            "Requirement already satisfied: anyio in /usr/local/lib/python3.10/dist-packages (from httpx->paddlepaddle-gpu>=2.3) (3.7.1)\n",
            "Requirement already satisfied: certifi in /usr/local/lib/python3.10/dist-packages (from httpx->paddlepaddle-gpu>=2.3) (2023.11.17)\n",
            "Requirement already satisfied: httpcore==1.* in /usr/local/lib/python3.10/dist-packages (from httpx->paddlepaddle-gpu>=2.3) (1.0.2)\n",
            "Requirement already satisfied: idna in /usr/local/lib/python3.10/dist-packages (from httpx->paddlepaddle-gpu>=2.3) (3.6)\n",
            "Requirement already satisfied: sniffio in /usr/local/lib/python3.10/dist-packages (from httpx->paddlepaddle-gpu>=2.3) (1.3.0)\n",
            "Requirement already satisfied: h11<0.15,>=0.13 in /usr/local/lib/python3.10/dist-packages (from httpcore==1.*->httpx->paddlepaddle-gpu>=2.3) (0.14.0)\n",
            "Requirement already satisfied: exceptiongroup in /usr/local/lib/python3.10/dist-packages (from anyio->httpx->paddlepaddle-gpu>=2.3) (1.2.0)\n",
            "Installing collected packages: paddlepaddle-gpu\n",
            "Successfully installed paddlepaddle-gpu-2.6.0\n",
            "\u001b[33mWARNING: Running pip as the 'root' user can result in broken permissions and conflicting behaviour with the system package manager. It is recommended to use a virtual environment instead: https://pip.pypa.io/warnings/venv\u001b[0m\u001b[33m\n",
            "\u001b[0m"
          ]
        }
      ]
    },
    {
      "cell_type": "code",
      "source": [
        "!git clone https://github.com/PaddlePaddle/PaddleDetection.git"
      ],
      "metadata": {
        "colab": {
          "base_uri": "https://localhost:8080/"
        },
        "id": "RgHSlONf6KoU",
        "outputId": "bee3f650-81e2-48c6-e525-13c778e73e54"
      },
      "execution_count": 24,
      "outputs": [
        {
          "output_type": "stream",
          "name": "stdout",
          "text": [
            "Cloning into 'PaddleDetection'...\n",
            "remote: Enumerating objects: 257131, done.\u001b[K\n",
            "remote: Counting objects: 100% (19/19), done.\u001b[K\n",
            "remote: Compressing objects: 100% (18/18), done.\u001b[K\n",
            "remote: Total 257131 (delta 9), reused 1 (delta 1), pack-reused 257112\u001b[K\n",
            "Receiving objects: 100% (257131/257131), 421.29 MiB | 31.04 MiB/s, done.\n",
            "Resolving deltas: 100% (209712/209712), done.\n"
          ]
        }
      ]
    },
    {
      "cell_type": "code",
      "source": [
        "!pip3 install -r 'PaddleDetection/requirements.txt'"
      ],
      "metadata": {
        "colab": {
          "base_uri": "https://localhost:8080/",
          "height": 1000
        },
        "id": "rtGjGEJf6TEw",
        "outputId": "ab01be62-36a2-4cf4-932d-988b04d7415e"
      },
      "execution_count": 25,
      "outputs": [
        {
          "output_type": "stream",
          "name": "stdout",
          "text": [
            "Requirement already satisfied: numpy<1.24 in /usr/local/lib/python3.10/dist-packages (from -r PaddleDetection/requirements.txt (line 1)) (1.23.5)\n",
            "Requirement already satisfied: tqdm in /usr/local/lib/python3.10/dist-packages (from -r PaddleDetection/requirements.txt (line 2)) (4.66.1)\n",
            "Collecting typeguard (from -r PaddleDetection/requirements.txt (line 3))\n",
            "  Downloading typeguard-4.1.5-py3-none-any.whl.metadata (3.7 kB)\n",
            "Collecting visualdl>=2.2.0 (from -r PaddleDetection/requirements.txt (line 4))\n",
            "  Downloading visualdl-2.5.3-py3-none-any.whl.metadata (25 kB)\n",
            "Collecting opencv-python<=4.6.0 (from -r PaddleDetection/requirements.txt (line 5))\n",
            "  Downloading opencv_python-4.5.5.64-cp36-abi3-manylinux_2_17_x86_64.manylinux2014_x86_64.whl (60.5 MB)\n",
            "\u001b[2K     \u001b[90m━━━━━━━━━━━━━━━━━━━━━━━━━━━━━━━━━━━━━━━━\u001b[0m \u001b[32m60.5/60.5 MB\u001b[0m \u001b[31m10.9 MB/s\u001b[0m eta \u001b[36m0:00:00\u001b[0m\n",
            "\u001b[?25hRequirement already satisfied: PyYAML in /usr/local/lib/python3.10/dist-packages (from -r PaddleDetection/requirements.txt (line 6)) (6.0.1)\n",
            "Requirement already satisfied: shapely in /usr/local/lib/python3.10/dist-packages (from -r PaddleDetection/requirements.txt (line 7)) (2.0.2)\n",
            "Requirement already satisfied: scipy in /usr/local/lib/python3.10/dist-packages (from -r PaddleDetection/requirements.txt (line 8)) (1.11.4)\n",
            "Collecting terminaltables (from -r PaddleDetection/requirements.txt (line 9))\n",
            "  Downloading terminaltables-3.1.10-py2.py3-none-any.whl (15 kB)\n",
            "Requirement already satisfied: Cython in /usr/local/lib/python3.10/dist-packages (from -r PaddleDetection/requirements.txt (line 10)) (3.0.7)\n",
            "Requirement already satisfied: pycocotools in /usr/local/lib/python3.10/dist-packages (from -r PaddleDetection/requirements.txt (line 11)) (2.0.7)\n",
            "Requirement already satisfied: setuptools in /usr/local/lib/python3.10/dist-packages (from -r PaddleDetection/requirements.txt (line 12)) (67.7.2)\n",
            "Requirement already satisfied: Pillow in /usr/local/lib/python3.10/dist-packages (from -r PaddleDetection/requirements.txt (line 13)) (9.4.0)\n",
            "Collecting lap (from -r PaddleDetection/requirements.txt (line 16))\n",
            "  Downloading lap-0.4.0.tar.gz (1.5 MB)\n",
            "\u001b[2K     \u001b[90m━━━━━━━━━━━━━━━━━━━━━━━━━━━━━━━━━━━━━━━━\u001b[0m \u001b[32m1.5/1.5 MB\u001b[0m \u001b[31m31.7 MB/s\u001b[0m eta \u001b[36m0:00:00\u001b[0m\n",
            "\u001b[?25h  Preparing metadata (setup.py) ... \u001b[?25l\u001b[?25hdone\n",
            "Collecting motmetrics (from -r PaddleDetection/requirements.txt (line 17))\n",
            "  Downloading motmetrics-1.4.0-py3-none-any.whl (161 kB)\n",
            "\u001b[2K     \u001b[90m━━━━━━━━━━━━━━━━━━━━━━━━━━━━━━━━━━━━━━━━\u001b[0m \u001b[32m161.5/161.5 kB\u001b[0m \u001b[31m15.7 MB/s\u001b[0m eta \u001b[36m0:00:00\u001b[0m\n",
            "\u001b[?25hCollecting sklearn==0.0 (from -r PaddleDetection/requirements.txt (line 18))\n",
            "  Downloading sklearn-0.0.tar.gz (1.1 kB)\n",
            "  Preparing metadata (setup.py) ... \u001b[?25l\u001b[?25hdone\n",
            "Collecting pyclipper (from -r PaddleDetection/requirements.txt (line 21))\n",
            "  Downloading pyclipper-1.3.0.post5-cp310-cp310-manylinux_2_12_x86_64.manylinux2010_x86_64.whl.metadata (9.0 kB)\n",
            "Requirement already satisfied: imgaug>=0.4.0 in /usr/local/lib/python3.10/dist-packages (from -r PaddleDetection/requirements.txt (line 24)) (0.4.0)\n",
            "Requirement already satisfied: scikit-learn in /usr/local/lib/python3.10/dist-packages (from sklearn==0.0->-r PaddleDetection/requirements.txt (line 18)) (1.2.2)\n",
            "Collecting typing-extensions>=4.7.0 (from typeguard->-r PaddleDetection/requirements.txt (line 3))\n",
            "  Downloading typing_extensions-4.9.0-py3-none-any.whl.metadata (3.0 kB)\n",
            "Collecting bce-python-sdk (from visualdl>=2.2.0->-r PaddleDetection/requirements.txt (line 4))\n",
            "  Downloading bce_python_sdk-0.8.99-py3-none-any.whl.metadata (319 bytes)\n",
            "Requirement already satisfied: flask>=1.1.1 in /usr/local/lib/python3.10/dist-packages (from visualdl>=2.2.0->-r PaddleDetection/requirements.txt (line 4)) (2.2.5)\n",
            "Collecting Flask-Babel>=3.0.0 (from visualdl>=2.2.0->-r PaddleDetection/requirements.txt (line 4))\n",
            "  Downloading flask_babel-4.0.0-py3-none-any.whl.metadata (1.9 kB)\n",
            "Requirement already satisfied: protobuf>=3.20.0 in /usr/local/lib/python3.10/dist-packages (from visualdl>=2.2.0->-r PaddleDetection/requirements.txt (line 4)) (3.20.3)\n",
            "Requirement already satisfied: requests in /usr/local/lib/python3.10/dist-packages (from visualdl>=2.2.0->-r PaddleDetection/requirements.txt (line 4)) (2.31.0)\n",
            "Requirement already satisfied: six>=1.14.0 in /usr/local/lib/python3.10/dist-packages (from visualdl>=2.2.0->-r PaddleDetection/requirements.txt (line 4)) (1.16.0)\n",
            "Requirement already satisfied: matplotlib in /usr/local/lib/python3.10/dist-packages (from visualdl>=2.2.0->-r PaddleDetection/requirements.txt (line 4)) (3.7.1)\n",
            "Requirement already satisfied: pandas in /usr/local/lib/python3.10/dist-packages (from visualdl>=2.2.0->-r PaddleDetection/requirements.txt (line 4)) (1.5.3)\n",
            "Requirement already satisfied: packaging in /usr/local/lib/python3.10/dist-packages (from visualdl>=2.2.0->-r PaddleDetection/requirements.txt (line 4)) (23.2)\n",
            "Collecting rarfile (from visualdl>=2.2.0->-r PaddleDetection/requirements.txt (line 4))\n",
            "  Downloading rarfile-4.1-py3-none-any.whl.metadata (4.4 kB)\n",
            "Requirement already satisfied: psutil in /usr/local/lib/python3.10/dist-packages (from visualdl>=2.2.0->-r PaddleDetection/requirements.txt (line 4)) (5.9.5)\n",
            "Collecting xmltodict>=0.12.0 (from motmetrics->-r PaddleDetection/requirements.txt (line 17))\n",
            "  Downloading xmltodict-0.13.0-py2.py3-none-any.whl (10.0 kB)\n",
            "Requirement already satisfied: scikit-image>=0.14.2 in /usr/local/lib/python3.10/dist-packages (from imgaug>=0.4.0->-r PaddleDetection/requirements.txt (line 24)) (0.19.3)\n",
            "Requirement already satisfied: imageio in /usr/local/lib/python3.10/dist-packages (from imgaug>=0.4.0->-r PaddleDetection/requirements.txt (line 24)) (2.31.6)\n",
            "Requirement already satisfied: Werkzeug>=2.2.2 in /usr/local/lib/python3.10/dist-packages (from flask>=1.1.1->visualdl>=2.2.0->-r PaddleDetection/requirements.txt (line 4)) (3.0.1)\n",
            "Requirement already satisfied: Jinja2>=3.0 in /usr/local/lib/python3.10/dist-packages (from flask>=1.1.1->visualdl>=2.2.0->-r PaddleDetection/requirements.txt (line 4)) (3.1.2)\n",
            "Requirement already satisfied: itsdangerous>=2.0 in /usr/local/lib/python3.10/dist-packages (from flask>=1.1.1->visualdl>=2.2.0->-r PaddleDetection/requirements.txt (line 4)) (2.1.2)\n",
            "Requirement already satisfied: click>=8.0 in /usr/local/lib/python3.10/dist-packages (from flask>=1.1.1->visualdl>=2.2.0->-r PaddleDetection/requirements.txt (line 4)) (8.1.7)\n",
            "Requirement already satisfied: Babel>=2.12 in /usr/local/lib/python3.10/dist-packages (from Flask-Babel>=3.0.0->visualdl>=2.2.0->-r PaddleDetection/requirements.txt (line 4)) (2.14.0)\n",
            "Requirement already satisfied: pytz>=2022.7 in /usr/local/lib/python3.10/dist-packages (from Flask-Babel>=3.0.0->visualdl>=2.2.0->-r PaddleDetection/requirements.txt (line 4)) (2023.3.post1)\n",
            "Requirement already satisfied: contourpy>=1.0.1 in /usr/local/lib/python3.10/dist-packages (from matplotlib->visualdl>=2.2.0->-r PaddleDetection/requirements.txt (line 4)) (1.2.0)\n",
            "Requirement already satisfied: cycler>=0.10 in /usr/local/lib/python3.10/dist-packages (from matplotlib->visualdl>=2.2.0->-r PaddleDetection/requirements.txt (line 4)) (0.12.1)\n",
            "Requirement already satisfied: fonttools>=4.22.0 in /usr/local/lib/python3.10/dist-packages (from matplotlib->visualdl>=2.2.0->-r PaddleDetection/requirements.txt (line 4)) (4.47.0)\n",
            "Requirement already satisfied: kiwisolver>=1.0.1 in /usr/local/lib/python3.10/dist-packages (from matplotlib->visualdl>=2.2.0->-r PaddleDetection/requirements.txt (line 4)) (1.4.5)\n",
            "Requirement already satisfied: pyparsing>=2.3.1 in /usr/local/lib/python3.10/dist-packages (from matplotlib->visualdl>=2.2.0->-r PaddleDetection/requirements.txt (line 4)) (3.1.1)\n",
            "Requirement already satisfied: python-dateutil>=2.7 in /usr/local/lib/python3.10/dist-packages (from matplotlib->visualdl>=2.2.0->-r PaddleDetection/requirements.txt (line 4)) (2.8.2)\n",
            "Requirement already satisfied: networkx>=2.2 in /usr/local/lib/python3.10/dist-packages (from scikit-image>=0.14.2->imgaug>=0.4.0->-r PaddleDetection/requirements.txt (line 24)) (3.2.1)\n",
            "Requirement already satisfied: tifffile>=2019.7.26 in /usr/local/lib/python3.10/dist-packages (from scikit-image>=0.14.2->imgaug>=0.4.0->-r PaddleDetection/requirements.txt (line 24)) (2023.12.9)\n",
            "Requirement already satisfied: PyWavelets>=1.1.1 in /usr/local/lib/python3.10/dist-packages (from scikit-image>=0.14.2->imgaug>=0.4.0->-r PaddleDetection/requirements.txt (line 24)) (1.5.0)\n",
            "Collecting pycryptodome>=3.8.0 (from bce-python-sdk->visualdl>=2.2.0->-r PaddleDetection/requirements.txt (line 4))\n",
            "  Downloading pycryptodome-3.19.1-cp35-abi3-manylinux_2_17_x86_64.manylinux2014_x86_64.whl.metadata (3.4 kB)\n",
            "Requirement already satisfied: future>=0.6.0 in /usr/local/lib/python3.10/dist-packages (from bce-python-sdk->visualdl>=2.2.0->-r PaddleDetection/requirements.txt (line 4)) (0.18.3)\n",
            "Requirement already satisfied: charset-normalizer<4,>=2 in /usr/local/lib/python3.10/dist-packages (from requests->visualdl>=2.2.0->-r PaddleDetection/requirements.txt (line 4)) (3.3.2)\n",
            "Requirement already satisfied: idna<4,>=2.5 in /usr/local/lib/python3.10/dist-packages (from requests->visualdl>=2.2.0->-r PaddleDetection/requirements.txt (line 4)) (3.6)\n",
            "Requirement already satisfied: urllib3<3,>=1.21.1 in /usr/local/lib/python3.10/dist-packages (from requests->visualdl>=2.2.0->-r PaddleDetection/requirements.txt (line 4)) (2.0.7)\n",
            "Requirement already satisfied: certifi>=2017.4.17 in /usr/local/lib/python3.10/dist-packages (from requests->visualdl>=2.2.0->-r PaddleDetection/requirements.txt (line 4)) (2023.11.17)\n",
            "Requirement already satisfied: joblib>=1.1.1 in /usr/local/lib/python3.10/dist-packages (from scikit-learn->sklearn==0.0->-r PaddleDetection/requirements.txt (line 18)) (1.3.2)\n",
            "Requirement already satisfied: threadpoolctl>=2.0.0 in /usr/local/lib/python3.10/dist-packages (from scikit-learn->sklearn==0.0->-r PaddleDetection/requirements.txt (line 18)) (3.2.0)\n",
            "Requirement already satisfied: MarkupSafe>=2.0 in /usr/local/lib/python3.10/dist-packages (from Jinja2>=3.0->flask>=1.1.1->visualdl>=2.2.0->-r PaddleDetection/requirements.txt (line 4)) (2.1.3)\n",
            "Downloading typeguard-4.1.5-py3-none-any.whl (34 kB)\n",
            "Downloading visualdl-2.5.3-py3-none-any.whl (6.3 MB)\n",
            "\u001b[2K   \u001b[90m━━━━━━━━━━━━━━━━━━━━━━━━━━━━━━━━━━━━━━━━\u001b[0m \u001b[32m6.3/6.3 MB\u001b[0m \u001b[31m41.7 MB/s\u001b[0m eta \u001b[36m0:00:00\u001b[0m\n",
            "\u001b[?25hDownloading pyclipper-1.3.0.post5-cp310-cp310-manylinux_2_12_x86_64.manylinux2010_x86_64.whl (908 kB)\n",
            "\u001b[2K   \u001b[90m━━━━━━━━━━━━━━━━━━━━━━━━━━━━━━━━━━━━━━━━\u001b[0m \u001b[32m908.3/908.3 kB\u001b[0m \u001b[31m30.2 MB/s\u001b[0m eta \u001b[36m0:00:00\u001b[0m\n",
            "\u001b[?25hDownloading flask_babel-4.0.0-py3-none-any.whl (9.6 kB)\n",
            "Downloading typing_extensions-4.9.0-py3-none-any.whl (32 kB)\n",
            "Downloading bce_python_sdk-0.8.99-py3-none-any.whl (269 kB)\n",
            "\u001b[2K   \u001b[90m━━━━━━━━━━━━━━━━━━━━━━━━━━━━━━━━━━━━━━━━\u001b[0m \u001b[32m269.9/269.9 kB\u001b[0m \u001b[31m22.6 MB/s\u001b[0m eta \u001b[36m0:00:00\u001b[0m\n",
            "\u001b[?25hDownloading rarfile-4.1-py3-none-any.whl (28 kB)\n",
            "Downloading pycryptodome-3.19.1-cp35-abi3-manylinux_2_17_x86_64.manylinux2014_x86_64.whl (2.1 MB)\n",
            "\u001b[2K   \u001b[90m━━━━━━━━━━━━━━━━━━━━━━━━━━━━━━━━━━━━━━━━\u001b[0m \u001b[32m2.1/2.1 MB\u001b[0m \u001b[31m38.3 MB/s\u001b[0m eta \u001b[36m0:00:00\u001b[0m\n",
            "\u001b[?25hBuilding wheels for collected packages: sklearn, lap\n",
            "  Building wheel for sklearn (setup.py) ... \u001b[?25l\u001b[?25hdone\n",
            "  Created wheel for sklearn: filename=sklearn-0.0-py2.py3-none-any.whl size=1303 sha256=38cbe6c25323388e4da23e30400bdabfe26d498639794bbc254c7c3fe1351ef6\n",
            "  Stored in directory: /root/.cache/pip/wheels/9b/13/01/6f3a7fd641f90e1f6c8c7cded057f3394f451f340371c68f3d\n",
            "  Building wheel for lap (setup.py) ... \u001b[?25l\u001b[?25hdone\n",
            "  Created wheel for lap: filename=lap-0.4.0-cp310-cp310-linux_x86_64.whl size=1628963 sha256=9992c7a6bfcc877283d7c8647a137eb130022d0bc09d1c0b7c7aa1d5e7bb001c\n",
            "  Stored in directory: /root/.cache/pip/wheels/00/42/2e/9dfe19270eea279d79e84767ff0d7b8082c3bf776cad00e83d\n",
            "Successfully built sklearn lap\n",
            "Installing collected packages: pyclipper, lap, xmltodict, typing-extensions, terminaltables, rarfile, pycryptodome, opencv-python, typeguard, bce-python-sdk, sklearn, motmetrics, Flask-Babel, visualdl\n",
            "  Attempting uninstall: typing-extensions\n",
            "    Found existing installation: typing_extensions 4.5.0\n",
            "    Uninstalling typing_extensions-4.5.0:\n",
            "      Successfully uninstalled typing_extensions-4.5.0\n",
            "  Attempting uninstall: opencv-python\n",
            "    Found existing installation: opencv-python 4.8.0.76\n",
            "    Uninstalling opencv-python-4.8.0.76:\n",
            "      Successfully uninstalled opencv-python-4.8.0.76\n",
            "\u001b[31mERROR: pip's dependency resolver does not currently take into account all the packages that are installed. This behaviour is the source of the following dependency conflicts.\n",
            "tensorflow-probability 0.22.0 requires typing-extensions<4.6.0, but you have typing-extensions 4.9.0 which is incompatible.\u001b[0m\u001b[31m\n",
            "\u001b[0mSuccessfully installed Flask-Babel-4.0.0 bce-python-sdk-0.8.99 lap-0.4.0 motmetrics-1.4.0 opencv-python-4.5.5.64 pyclipper-1.3.0.post5 pycryptodome-3.19.1 rarfile-4.1 sklearn-0.0 terminaltables-3.1.10 typeguard-4.1.5 typing-extensions-4.9.0 visualdl-2.5.3 xmltodict-0.13.0\n",
            "\u001b[33mWARNING: Running pip as the 'root' user can result in broken permissions and conflicting behaviour with the system package manager. It is recommended to use a virtual environment instead: https://pip.pypa.io/warnings/venv\u001b[0m\u001b[33m\n",
            "\u001b[0m"
          ]
        },
        {
          "output_type": "display_data",
          "data": {
            "application/vnd.colab-display-data+json": {
              "pip_warning": {
                "packages": [
                  "cv2"
                ]
              }
            }
          },
          "metadata": {}
        }
      ]
    },
    {
      "cell_type": "code",
      "source": [
        "!pip3 install \"paddleocr>=2.0.1\"\n",
        "\n"
      ],
      "metadata": {
        "colab": {
          "base_uri": "https://localhost:8080/",
          "height": 1000
        },
        "id": "PSah3vvR7S_x",
        "outputId": "6b6952e8-26c6-4a52-e901-6d27219ff9b3"
      },
      "execution_count": 27,
      "outputs": [
        {
          "output_type": "stream",
          "name": "stdout",
          "text": [
            "Collecting paddleocr>=2.0.1\n",
            "  Downloading paddleocr-2.7.0.3-py3-none-any.whl.metadata (26 kB)\n",
            "Requirement already satisfied: shapely in /usr/local/lib/python3.10/dist-packages (from paddleocr>=2.0.1) (2.0.2)\n",
            "Requirement already satisfied: scikit-image in /usr/local/lib/python3.10/dist-packages (from paddleocr>=2.0.1) (0.19.3)\n",
            "Requirement already satisfied: imgaug in /usr/local/lib/python3.10/dist-packages (from paddleocr>=2.0.1) (0.4.0)\n",
            "Requirement already satisfied: pyclipper in /usr/local/lib/python3.10/dist-packages (from paddleocr>=2.0.1) (1.3.0.post5)\n",
            "Collecting lmdb (from paddleocr>=2.0.1)\n",
            "  Downloading lmdb-1.4.1-cp310-cp310-manylinux_2_17_x86_64.manylinux2014_x86_64.whl (299 kB)\n",
            "\u001b[2K     \u001b[90m━━━━━━━━━━━━━━━━━━━━━━━━━━━━━━━━━━━━━━━━\u001b[0m \u001b[32m299.2/299.2 kB\u001b[0m \u001b[31m6.9 MB/s\u001b[0m eta \u001b[36m0:00:00\u001b[0m\n",
            "\u001b[?25hRequirement already satisfied: tqdm in /usr/local/lib/python3.10/dist-packages (from paddleocr>=2.0.1) (4.66.1)\n",
            "Requirement already satisfied: numpy in /usr/local/lib/python3.10/dist-packages (from paddleocr>=2.0.1) (1.23.5)\n",
            "Requirement already satisfied: visualdl in /usr/local/lib/python3.10/dist-packages (from paddleocr>=2.0.1) (2.5.3)\n",
            "Collecting rapidfuzz (from paddleocr>=2.0.1)\n",
            "  Downloading rapidfuzz-3.6.1-cp310-cp310-manylinux_2_17_x86_64.manylinux2014_x86_64.whl.metadata (11 kB)\n",
            "Requirement already satisfied: opencv-python<=4.6.0.66 in /usr/local/lib/python3.10/dist-packages (from paddleocr>=2.0.1) (4.5.5.64)\n",
            "Collecting opencv-contrib-python<=4.6.0.66 (from paddleocr>=2.0.1)\n",
            "  Downloading opencv_contrib_python-4.6.0.66-cp36-abi3-manylinux_2_17_x86_64.manylinux2014_x86_64.whl (67.1 MB)\n",
            "\u001b[2K     \u001b[90m━━━━━━━━━━━━━━━━━━━━━━━━━━━━━━━━━━━━━━━━\u001b[0m \u001b[32m67.1/67.1 MB\u001b[0m \u001b[31m9.1 MB/s\u001b[0m eta \u001b[36m0:00:00\u001b[0m\n",
            "\u001b[?25hRequirement already satisfied: cython in /usr/local/lib/python3.10/dist-packages (from paddleocr>=2.0.1) (3.0.7)\n",
            "Requirement already satisfied: lxml in /usr/local/lib/python3.10/dist-packages (from paddleocr>=2.0.1) (4.9.4)\n",
            "Collecting premailer (from paddleocr>=2.0.1)\n",
            "  Downloading premailer-3.10.0-py2.py3-none-any.whl (19 kB)\n",
            "Requirement already satisfied: openpyxl in /usr/local/lib/python3.10/dist-packages (from paddleocr>=2.0.1) (3.1.2)\n",
            "Collecting attrdict (from paddleocr>=2.0.1)\n",
            "  Downloading attrdict-2.0.1-py2.py3-none-any.whl (9.9 kB)\n",
            "Collecting PyMuPDF<1.21.0 (from paddleocr>=2.0.1)\n",
            "  Downloading PyMuPDF-1.20.2-cp310-cp310-manylinux_2_17_x86_64.manylinux2014_x86_64.whl (8.9 MB)\n",
            "\u001b[2K     \u001b[90m━━━━━━━━━━━━━━━━━━━━━━━━━━━━━━━━━━━━━━━━\u001b[0m \u001b[32m8.9/8.9 MB\u001b[0m \u001b[31m63.3 MB/s\u001b[0m eta \u001b[36m0:00:00\u001b[0m\n",
            "\u001b[?25hCollecting Pillow>=10.0.0 (from paddleocr>=2.0.1)\n",
            "  Downloading pillow-10.2.0-cp310-cp310-manylinux_2_28_x86_64.whl.metadata (9.7 kB)\n",
            "Requirement already satisfied: pyyaml in /usr/local/lib/python3.10/dist-packages (from paddleocr>=2.0.1) (6.0.1)\n",
            "Collecting python-docx (from paddleocr>=2.0.1)\n",
            "  Downloading python_docx-1.1.0-py3-none-any.whl.metadata (2.0 kB)\n",
            "Requirement already satisfied: beautifulsoup4 in /usr/local/lib/python3.10/dist-packages (from paddleocr>=2.0.1) (4.11.2)\n",
            "Requirement already satisfied: fonttools>=4.24.0 in /usr/local/lib/python3.10/dist-packages (from paddleocr>=2.0.1) (4.47.0)\n",
            "Collecting fire>=0.3.0 (from paddleocr>=2.0.1)\n",
            "  Downloading fire-0.5.0.tar.gz (88 kB)\n",
            "\u001b[2K     \u001b[90m━━━━━━━━━━━━━━━━━━━━━━━━━━━━━━━━━━━━━━━━\u001b[0m \u001b[32m88.3/88.3 kB\u001b[0m \u001b[31m6.4 MB/s\u001b[0m eta \u001b[36m0:00:00\u001b[0m\n",
            "\u001b[?25h  Preparing metadata (setup.py) ... \u001b[?25l\u001b[?25hdone\n",
            "Collecting pdf2docx (from paddleocr>=2.0.1)\n",
            "  Downloading pdf2docx-0.5.7-py3-none-any.whl.metadata (3.2 kB)\n",
            "Requirement already satisfied: six in /usr/local/lib/python3.10/dist-packages (from fire>=0.3.0->paddleocr>=2.0.1) (1.16.0)\n",
            "Requirement already satisfied: termcolor in /usr/local/lib/python3.10/dist-packages (from fire>=0.3.0->paddleocr>=2.0.1) (2.4.0)\n",
            "Requirement already satisfied: soupsieve>1.2 in /usr/local/lib/python3.10/dist-packages (from beautifulsoup4->paddleocr>=2.0.1) (2.5)\n",
            "Requirement already satisfied: scipy in /usr/local/lib/python3.10/dist-packages (from imgaug->paddleocr>=2.0.1) (1.11.4)\n",
            "Requirement already satisfied: matplotlib in /usr/local/lib/python3.10/dist-packages (from imgaug->paddleocr>=2.0.1) (3.7.1)\n",
            "Requirement already satisfied: imageio in /usr/local/lib/python3.10/dist-packages (from imgaug->paddleocr>=2.0.1) (2.31.6)\n",
            "Requirement already satisfied: networkx>=2.2 in /usr/local/lib/python3.10/dist-packages (from scikit-image->paddleocr>=2.0.1) (3.2.1)\n",
            "Requirement already satisfied: tifffile>=2019.7.26 in /usr/local/lib/python3.10/dist-packages (from scikit-image->paddleocr>=2.0.1) (2023.12.9)\n",
            "Requirement already satisfied: PyWavelets>=1.1.1 in /usr/local/lib/python3.10/dist-packages (from scikit-image->paddleocr>=2.0.1) (1.5.0)\n",
            "Requirement already satisfied: packaging>=20.0 in /usr/local/lib/python3.10/dist-packages (from scikit-image->paddleocr>=2.0.1) (23.2)\n",
            "Requirement already satisfied: et-xmlfile in /usr/local/lib/python3.10/dist-packages (from openpyxl->paddleocr>=2.0.1) (1.1.0)\n",
            "Requirement already satisfied: typing-extensions in /usr/local/lib/python3.10/dist-packages (from python-docx->paddleocr>=2.0.1) (4.9.0)\n",
            "Collecting cssselect (from premailer->paddleocr>=2.0.1)\n",
            "  Downloading cssselect-1.2.0-py2.py3-none-any.whl (18 kB)\n",
            "Collecting cssutils (from premailer->paddleocr>=2.0.1)\n",
            "  Downloading cssutils-2.9.0-py3-none-any.whl.metadata (9.1 kB)\n",
            "Requirement already satisfied: requests in /usr/local/lib/python3.10/dist-packages (from premailer->paddleocr>=2.0.1) (2.31.0)\n",
            "Requirement already satisfied: cachetools in /usr/local/lib/python3.10/dist-packages (from premailer->paddleocr>=2.0.1) (5.3.2)\n",
            "Requirement already satisfied: bce-python-sdk in /usr/local/lib/python3.10/dist-packages (from visualdl->paddleocr>=2.0.1) (0.8.99)\n",
            "Requirement already satisfied: flask>=1.1.1 in /usr/local/lib/python3.10/dist-packages (from visualdl->paddleocr>=2.0.1) (2.2.5)\n",
            "Requirement already satisfied: Flask-Babel>=3.0.0 in /usr/local/lib/python3.10/dist-packages (from visualdl->paddleocr>=2.0.1) (4.0.0)\n",
            "Requirement already satisfied: protobuf>=3.20.0 in /usr/local/lib/python3.10/dist-packages (from visualdl->paddleocr>=2.0.1) (3.20.3)\n",
            "Requirement already satisfied: pandas in /usr/local/lib/python3.10/dist-packages (from visualdl->paddleocr>=2.0.1) (1.5.3)\n",
            "Requirement already satisfied: rarfile in /usr/local/lib/python3.10/dist-packages (from visualdl->paddleocr>=2.0.1) (4.1)\n",
            "Requirement already satisfied: psutil in /usr/local/lib/python3.10/dist-packages (from visualdl->paddleocr>=2.0.1) (5.9.5)\n",
            "Requirement already satisfied: Werkzeug>=2.2.2 in /usr/local/lib/python3.10/dist-packages (from flask>=1.1.1->visualdl->paddleocr>=2.0.1) (3.0.1)\n",
            "Requirement already satisfied: Jinja2>=3.0 in /usr/local/lib/python3.10/dist-packages (from flask>=1.1.1->visualdl->paddleocr>=2.0.1) (3.1.2)\n",
            "Requirement already satisfied: itsdangerous>=2.0 in /usr/local/lib/python3.10/dist-packages (from flask>=1.1.1->visualdl->paddleocr>=2.0.1) (2.1.2)\n",
            "Requirement already satisfied: click>=8.0 in /usr/local/lib/python3.10/dist-packages (from flask>=1.1.1->visualdl->paddleocr>=2.0.1) (8.1.7)\n",
            "Requirement already satisfied: Babel>=2.12 in /usr/local/lib/python3.10/dist-packages (from Flask-Babel>=3.0.0->visualdl->paddleocr>=2.0.1) (2.14.0)\n",
            "Requirement already satisfied: pytz>=2022.7 in /usr/local/lib/python3.10/dist-packages (from Flask-Babel>=3.0.0->visualdl->paddleocr>=2.0.1) (2023.3.post1)\n",
            "Collecting Pillow>=10.0.0 (from paddleocr>=2.0.1)\n",
            "  Downloading Pillow-10.0.1-cp310-cp310-manylinux_2_28_x86_64.whl.metadata (9.5 kB)\n",
            "Requirement already satisfied: pycryptodome>=3.8.0 in /usr/local/lib/python3.10/dist-packages (from bce-python-sdk->visualdl->paddleocr>=2.0.1) (3.19.1)\n",
            "Requirement already satisfied: future>=0.6.0 in /usr/local/lib/python3.10/dist-packages (from bce-python-sdk->visualdl->paddleocr>=2.0.1) (0.18.3)\n",
            "Requirement already satisfied: contourpy>=1.0.1 in /usr/local/lib/python3.10/dist-packages (from matplotlib->imgaug->paddleocr>=2.0.1) (1.2.0)\n",
            "Requirement already satisfied: cycler>=0.10 in /usr/local/lib/python3.10/dist-packages (from matplotlib->imgaug->paddleocr>=2.0.1) (0.12.1)\n",
            "Requirement already satisfied: kiwisolver>=1.0.1 in /usr/local/lib/python3.10/dist-packages (from matplotlib->imgaug->paddleocr>=2.0.1) (1.4.5)\n",
            "Requirement already satisfied: pyparsing>=2.3.1 in /usr/local/lib/python3.10/dist-packages (from matplotlib->imgaug->paddleocr>=2.0.1) (3.1.1)\n",
            "Requirement already satisfied: python-dateutil>=2.7 in /usr/local/lib/python3.10/dist-packages (from matplotlib->imgaug->paddleocr>=2.0.1) (2.8.2)\n",
            "Requirement already satisfied: charset-normalizer<4,>=2 in /usr/local/lib/python3.10/dist-packages (from requests->premailer->paddleocr>=2.0.1) (3.3.2)\n",
            "Requirement already satisfied: idna<4,>=2.5 in /usr/local/lib/python3.10/dist-packages (from requests->premailer->paddleocr>=2.0.1) (3.6)\n",
            "Requirement already satisfied: urllib3<3,>=1.21.1 in /usr/local/lib/python3.10/dist-packages (from requests->premailer->paddleocr>=2.0.1) (2.0.7)\n",
            "Requirement already satisfied: certifi>=2017.4.17 in /usr/local/lib/python3.10/dist-packages (from requests->premailer->paddleocr>=2.0.1) (2023.11.17)\n",
            "Requirement already satisfied: MarkupSafe>=2.0 in /usr/local/lib/python3.10/dist-packages (from Jinja2>=3.0->flask>=1.1.1->visualdl->paddleocr>=2.0.1) (2.1.3)\n",
            "Downloading paddleocr-2.7.0.3-py3-none-any.whl (465 kB)\n",
            "\u001b[2K   \u001b[90m━━━━━━━━━━━━━━━━━━━━━━━━━━━━━━━━━━━━━━━━\u001b[0m \u001b[32m465.7/465.7 kB\u001b[0m \u001b[31m20.3 MB/s\u001b[0m eta \u001b[36m0:00:00\u001b[0m\n",
            "\u001b[?25hDownloading pdf2docx-0.5.7-py3-none-any.whl (148 kB)\n",
            "\u001b[2K   \u001b[90m━━━━━━━━━━━━━━━━━━━━━━━━━━━━━━━━━━━━━━━━\u001b[0m \u001b[32m148.9/148.9 kB\u001b[0m \u001b[31m14.4 MB/s\u001b[0m eta \u001b[36m0:00:00\u001b[0m\n",
            "\u001b[?25hDownloading python_docx-1.1.0-py3-none-any.whl (239 kB)\n",
            "\u001b[2K   \u001b[90m━━━━━━━━━━━━━━━━━━━━━━━━━━━━━━━━━━━━━━━━\u001b[0m \u001b[32m239.6/239.6 kB\u001b[0m \u001b[31m15.2 MB/s\u001b[0m eta \u001b[36m0:00:00\u001b[0m\n",
            "\u001b[?25hDownloading rapidfuzz-3.6.1-cp310-cp310-manylinux_2_17_x86_64.manylinux2014_x86_64.whl (3.4 MB)\n",
            "\u001b[2K   \u001b[90m━━━━━━━━━━━━━━━━━━━━━━━━━━━━━━━━━━━━━━━━\u001b[0m \u001b[32m3.4/3.4 MB\u001b[0m \u001b[31m91.1 MB/s\u001b[0m eta \u001b[36m0:00:00\u001b[0m\n",
            "\u001b[?25hDownloading Pillow-10.0.1-cp310-cp310-manylinux_2_28_x86_64.whl (3.6 MB)\n",
            "\u001b[2K   \u001b[90m━━━━━━━━━━━━━━━━━━━━━━━━━━━━━━━━━━━━━━━━\u001b[0m \u001b[32m3.6/3.6 MB\u001b[0m \u001b[31m70.3 MB/s\u001b[0m eta \u001b[36m0:00:00\u001b[0m\n",
            "\u001b[?25hDownloading cssutils-2.9.0-py3-none-any.whl (398 kB)\n",
            "\u001b[2K   \u001b[90m━━━━━━━━━━━━━━━━━━━━━━━━━━━━━━━━━━━━━━━━\u001b[0m \u001b[32m398.5/398.5 kB\u001b[0m \u001b[31m33.0 MB/s\u001b[0m eta \u001b[36m0:00:00\u001b[0m\n",
            "\u001b[?25hBuilding wheels for collected packages: fire\n",
            "  Building wheel for fire (setup.py) ... \u001b[?25l\u001b[?25hdone\n",
            "  Created wheel for fire: filename=fire-0.5.0-py2.py3-none-any.whl size=116934 sha256=56cb2b532bdf960ca4785b6d5bc872ecd354c020b5166f8b47bb5a0bded5c810\n",
            "  Stored in directory: /root/.cache/pip/wheels/90/d4/f7/9404e5db0116bd4d43e5666eaa3e70ab53723e1e3ea40c9a95\n",
            "Successfully built fire\n",
            "Installing collected packages: lmdb, rapidfuzz, python-docx, PyMuPDF, Pillow, opencv-contrib-python, fire, cssutils, cssselect, attrdict, premailer, pdf2docx, paddleocr\n",
            "  Attempting uninstall: Pillow\n",
            "    Found existing installation: Pillow 9.4.0\n",
            "    Uninstalling Pillow-9.4.0:\n",
            "      Successfully uninstalled Pillow-9.4.0\n",
            "  Attempting uninstall: opencv-contrib-python\n",
            "    Found existing installation: opencv-contrib-python 4.8.0.76\n",
            "    Uninstalling opencv-contrib-python-4.8.0.76:\n",
            "      Successfully uninstalled opencv-contrib-python-4.8.0.76\n",
            "Successfully installed Pillow-10.0.1 PyMuPDF-1.20.2 attrdict-2.0.1 cssselect-1.2.0 cssutils-2.9.0 fire-0.5.0 lmdb-1.4.1 opencv-contrib-python-4.6.0.66 paddleocr-2.7.0.3 pdf2docx-0.5.7 premailer-3.10.0 python-docx-1.1.0 rapidfuzz-3.6.1\n",
            "\u001b[33mWARNING: Running pip as the 'root' user can result in broken permissions and conflicting behaviour with the system package manager. It is recommended to use a virtual environment instead: https://pip.pypa.io/warnings/venv\u001b[0m\u001b[33m\n",
            "\u001b[0m"
          ]
        },
        {
          "output_type": "display_data",
          "data": {
            "application/vnd.colab-display-data+json": {
              "pip_warning": {
                "packages": [
                  "PIL",
                  "cv2"
                ]
              }
            }
          },
          "metadata": {}
        }
      ]
    },
    {
      "cell_type": "code",
      "execution_count": 28,
      "metadata": {
        "id": "E7RGdWNCKaFx",
        "colab": {
          "base_uri": "https://localhost:8080/"
        },
        "outputId": "6384eed8-5185-46d7-9c75-12149c8012bf"
      },
      "outputs": [
        {
          "output_type": "stream",
          "name": "stderr",
          "text": [
            "/usr/local/lib/python3.10/dist-packages/paddle/base/framework.py:688: UserWarning: You are using GPU version Paddle, but your CUDA device is not set properly. CPU device will be used by default.\n",
            "  warnings.warn(\n"
          ]
        }
      ],
      "source": [
        "import cv2\n",
        "import layoutparser as lp"
      ]
    },
    {
      "cell_type": "code",
      "source": [
        "image = cv2.imread(\"pages/page0.jpg\")\n",
        "image = image[..., ::-1]"
      ],
      "metadata": {
        "id": "_lbdC28A30LY"
      },
      "execution_count": 31,
      "outputs": []
    },
    {
      "cell_type": "code",
      "source": [
        "# load model\n",
        "model = lp.PaddleDetectionLayoutModel(\n",
        "    config_path=\"lp://PubLayNet/ppyolov2_r50vd_dcn_365e_publaynet/config\",\n",
        "    threshold=0.5,\n",
        "    label_map={0: \"Text\", 1: \"Title\", 2: \"List\", 3:\"Table\", 4:\"Figure\"},\n",
        "    enforce_cpu=True,\n",
        "    enable_mkldnn=True\n",
        ")"
      ],
      "metadata": {
        "id": "uU0U9Qrb7kuh"
      },
      "execution_count": 33,
      "outputs": []
    },
    {
      "cell_type": "code",
      "source": [
        "# detect\n",
        "layout = model.detect(image)"
      ],
      "metadata": {
        "id": "rdmaRtaF7wuj"
      },
      "execution_count": 34,
      "outputs": []
    },
    {
      "cell_type": "code",
      "source": [
        "# show result\n",
        "show_img = lp.draw_box(image, layout, box_width=3, show_element_type=True)\n",
        "show_img.show()"
      ],
      "metadata": {
        "id": "LU1UEQQS9fOH"
      },
      "execution_count": 35,
      "outputs": []
    },
    {
      "cell_type": "code",
      "source": [
        "layout"
      ],
      "metadata": {
        "colab": {
          "base_uri": "https://localhost:8080/"
        },
        "id": "tVEyJDY29hwf",
        "outputId": "2e72ede7-2f3a-461b-ff4d-a04f4b11d8ef"
      },
      "execution_count": 36,
      "outputs": [
        {
          "output_type": "execute_result",
          "data": {
            "text/plain": [
              "Layout(_blocks=[TextBlock(block=Rectangle(x_1=83.42987060546875, y_1=57.67059326171875, x_2=1514.671142578125, y_2=1683.7412109375), text=None, id=None, type=Table, parent=None, next=None, score=0.901673436164856), TextBlock(block=Rectangle(x_1=85.12384033203125, y_1=80.98779296875, x_2=1513.02783203125, y_2=2265.84423828125), text=None, id=None, type=Figure, parent=None, next=None, score=0.5565367937088013)], page_data={})"
            ]
          },
          "metadata": {},
          "execution_count": 36
        }
      ]
    },
    {
      "cell_type": "code",
      "source": [
        "x_1=0\n",
        "y_1=0\n",
        "x_2=0\n",
        "y_2=0\n",
        "\n",
        "for l in layout:\n",
        "  #print(l)\n",
        "  if l.type == 'Table':\n",
        "    x_1 = int(l.block.x_1)\n",
        "    print(l.block.x_1)\n",
        "    y_1 = int(l.block.y_1)\n",
        "    x_2 = int(l.block.x_2)\n",
        "    y_2 = int(l.block.y_2)\n",
        "\n",
        "    break"
      ],
      "metadata": {
        "colab": {
          "base_uri": "https://localhost:8080/"
        },
        "id": "U2GgRx_k9lMl",
        "outputId": "115ae859-b98d-4fd3-9574-ae970d0819b5"
      },
      "execution_count": 37,
      "outputs": [
        {
          "output_type": "stream",
          "name": "stdout",
          "text": [
            "83.42987\n"
          ]
        }
      ]
    },
    {
      "cell_type": "code",
      "source": [
        "print(x_1,y_1,x_2,y_2)"
      ],
      "metadata": {
        "colab": {
          "base_uri": "https://localhost:8080/"
        },
        "id": "0CFWEF1B9nS6",
        "outputId": "baacc370-1f7d-4cd4-c2eb-9748e6aafe41"
      },
      "execution_count": 38,
      "outputs": [
        {
          "output_type": "stream",
          "name": "stdout",
          "text": [
            "83 57 1514 1683\n"
          ]
        }
      ]
    },
    {
      "cell_type": "code",
      "source": [
        "im = cv2.imread('pages/page0.jpg')"
      ],
      "metadata": {
        "id": "qC3PAMiU9okI"
      },
      "execution_count": 39,
      "outputs": []
    },
    {
      "cell_type": "code",
      "source": [
        "cv2.imwrite('ext_im.jpg', im[y_1:y_2,x_1:x_2])"
      ],
      "metadata": {
        "colab": {
          "base_uri": "https://localhost:8080/"
        },
        "id": "zN7CZKKm9rmd",
        "outputId": "60363ad7-205c-4618-c8e7-044b33093c0c"
      },
      "execution_count": 40,
      "outputs": [
        {
          "output_type": "execute_result",
          "data": {
            "text/plain": [
              "True"
            ]
          },
          "metadata": {},
          "execution_count": 40
        }
      ]
    },
    {
      "cell_type": "code",
      "source": [
        "from paddleocr import PaddleOCR, draw_ocr"
      ],
      "metadata": {
        "id": "EfeBwJv99tEr"
      },
      "execution_count": 44,
      "outputs": []
    },
    {
      "cell_type": "code",
      "source": [
        "ocr = PaddleOCR(use_gpu=False, lang='en')"
      ],
      "metadata": {
        "colab": {
          "base_uri": "https://localhost:8080/"
        },
        "id": "b_7hg25t-_hW",
        "outputId": "3b7ccc57-e727-42a1-9316-a69626173ec8"
      },
      "execution_count": 45,
      "outputs": [
        {
          "output_type": "stream",
          "name": "stdout",
          "text": [
            "[2024/01/10 06:08:42] ppocr DEBUG: Namespace(help='==SUPPRESS==', use_gpu=False, use_xpu=False, use_npu=False, ir_optim=True, use_tensorrt=False, min_subgraph_size=15, precision='fp32', gpu_mem=500, gpu_id=0, image_dir=None, page_num=0, det_algorithm='DB', det_model_dir='/root/.paddleocr/whl/det/en/en_PP-OCRv3_det_infer', det_limit_side_len=960, det_limit_type='max', det_box_type='quad', det_db_thresh=0.3, det_db_box_thresh=0.6, det_db_unclip_ratio=1.5, max_batch_size=10, use_dilation=False, det_db_score_mode='fast', det_east_score_thresh=0.8, det_east_cover_thresh=0.1, det_east_nms_thresh=0.2, det_sast_score_thresh=0.5, det_sast_nms_thresh=0.2, det_pse_thresh=0, det_pse_box_thresh=0.85, det_pse_min_area=16, det_pse_scale=1, scales=[8, 16, 32], alpha=1.0, beta=1.0, fourier_degree=5, rec_algorithm='SVTR_LCNet', rec_model_dir='/root/.paddleocr/whl/rec/en/en_PP-OCRv4_rec_infer', rec_image_inverse=True, rec_image_shape='3, 48, 320', rec_batch_num=6, max_text_length=25, rec_char_dict_path='/usr/local/lib/python3.10/dist-packages/paddleocr/ppocr/utils/en_dict.txt', use_space_char=True, vis_font_path='./doc/fonts/simfang.ttf', drop_score=0.5, e2e_algorithm='PGNet', e2e_model_dir=None, e2e_limit_side_len=768, e2e_limit_type='max', e2e_pgnet_score_thresh=0.5, e2e_char_dict_path='./ppocr/utils/ic15_dict.txt', e2e_pgnet_valid_set='totaltext', e2e_pgnet_mode='fast', use_angle_cls=False, cls_model_dir='/root/.paddleocr/whl/cls/ch_ppocr_mobile_v2.0_cls_infer', cls_image_shape='3, 48, 192', label_list=['0', '180'], cls_batch_num=6, cls_thresh=0.9, enable_mkldnn=False, cpu_threads=10, use_pdserving=False, warmup=False, sr_model_dir=None, sr_image_shape='3, 32, 128', sr_batch_num=1, draw_img_save_dir='./inference_results', save_crop_res=False, crop_res_save_dir='./output', use_mp=False, total_process_num=1, process_id=0, benchmark=False, save_log_path='./log_output/', show_log=True, use_onnx=False, output='./output', table_max_len=488, table_algorithm='TableAttn', table_model_dir=None, merge_no_span_structure=True, table_char_dict_path=None, layout_model_dir=None, layout_dict_path=None, layout_score_threshold=0.5, layout_nms_threshold=0.5, kie_algorithm='LayoutXLM', ser_model_dir=None, re_model_dir=None, use_visual_backbone=True, ser_dict_path='../train_data/XFUND/class_list_xfun.txt', ocr_order_method=None, mode='structure', image_orientation=False, layout=True, table=True, ocr=True, recovery=False, use_pdf2docx_api=False, invert=False, binarize=False, alphacolor=(255, 255, 255), lang='en', det=True, rec=True, type='ocr', ocr_version='PP-OCRv4', structure_version='PP-StructureV2')\n"
          ]
        }
      ]
    },
    {
      "cell_type": "code",
      "source": [
        "\n",
        "image_path = 'ext_im.jpg'\n",
        "image_cv = cv2.imread(image_path)\n",
        "image_height = image_cv.shape[0]\n",
        "image_width = image_cv.shape[1]\n",
        "output = ocr.ocr(image_path)[0]"
      ],
      "metadata": {
        "colab": {
          "base_uri": "https://localhost:8080/"
        },
        "id": "DFzz85vj9wC4",
        "outputId": "6a78ab89-0f29-4e62-db0c-97256e9f6ebb"
      },
      "execution_count": 46,
      "outputs": [
        {
          "output_type": "stream",
          "name": "stdout",
          "text": [
            "[2024/01/10 06:08:49] ppocr WARNING: Since the angle classifier is not initialized, it will not be used during the forward process\n",
            "[2024/01/10 06:08:50] ppocr DEBUG: dt_boxes num : 222, elapsed : 0.5732920169830322\n",
            "[2024/01/10 06:09:01] ppocr DEBUG: rec_res num  : 222, elapsed : 11.070188045501709\n"
          ]
        }
      ]
    },
    {
      "cell_type": "code",
      "source": [
        "print(output)"
      ],
      "metadata": {
        "colab": {
          "base_uri": "https://localhost:8080/"
        },
        "id": "a59vtPEq9xoH",
        "outputId": "a2e15746-6077-464d-f561-5c3cd32f6cca"
      },
      "execution_count": 47,
      "outputs": [
        {
          "output_type": "stream",
          "name": "stdout",
          "text": [
            "[[[[37.0, 9.0], [354.0, 23.0], [350.0, 125.0], [33.0, 110.0]], ('SS-OIL', 0.8662951588630676)], [[[1164.0, 14.0], [1400.0, 14.0], [1400.0, 85.0], [1164.0, 85.0]], ('HDL', 0.9987223148345947)], [[[590.0, 54.0], [707.0, 54.0], [707.0, 78.0], [590.0, 78.0]], ('D-230501', 0.9945861101150513)], [[[468.0, 93.0], [834.0, 93.0], [834.0, 117.0], [468.0, 117.0]], ('SOUR WATERFLASHDRUM', 0.9728676676750183)], [[[1168.0, 88.0], [1397.0, 88.0], [1397.0, 110.0], [1168.0, 110.0]], ('CONSORTIUM', 0.9972211122512817)], [[[31.0, 130.0], [167.0, 130.0], [167.0, 159.0], [31.0, 159.0]], ('Project No.', 0.9745344519615173)], [[[222.0, 132.0], [354.0, 132.0], [354.0, 156.0], [222.0, 156.0]], ('SHAHEEN', 0.9977632761001587)], [[[31.0, 168.0], [107.0, 168.0], [107.0, 198.0], [31.0, 198.0]], ('Client', 0.9985513687133789)], [[[222.0, 171.0], [501.0, 171.0], [501.0, 195.0], [222.0, 195.0]], ('S-OIL CORPORATION', 0.9676260352134705)], [[[863.0, 169.0], [1386.0, 171.0], [1386.0, 195.0], [863.0, 193.0]], ('SHAHEEN-2305-ME-EDS-D-230501 ReV.', 0.9797112345695496)], [[[1400.0, 173.0], [1426.0, 173.0], [1426.0, 195.0], [1400.0, 195.0]], ('A', 0.9993928670883179)], [[[33.0, 210.0], [224.0, 210.0], [224.0, 234.0], [33.0, 234.0]], ('Project Name', 0.9601643681526184)], [[[213.0, 207.0], [523.0, 210.0], [523.0, 234.0], [213.0, 230.0]], ('S-OIL SHAHEEN Project', 0.9452210664749146)], [[[1237.0, 207.0], [1428.0, 207.0], [1428.0, 235.0], [1237.0, 235.0]], ('Page 5 of 15', 0.8944017291069031)], [[[174.0, 241.0], [451.0, 241.0], [451.0, 264.0], [174.0, 264.0]], ('Material specification', 0.9775960445404053)], [[[929.0, 241.0], [1204.0, 241.0], [1204.0, 264.0], [929.0, 264.0]], ('Material specification', 0.9797949194908142)], [[[9.0, 269.0], [93.0, 269.0], [93.0, 293.0], [9.0, 293.0]], ('2|jacket', 0.9183840751647949)], [[[559.0, 269.0], [702.0, 269.0], [702.0, 293.0], [559.0, 293.0]], ('Not Applicable', 0.9886943101882935)], [[[746.0, 271.0], [872.0, 271.0], [872.0, 290.0], [746.0, 290.0]], ('nuts,internal', 0.9680967330932617)], [[[1207.0, 268.0], [1414.0, 268.0], [1414.0, 290.0], [1207.0, 290.0]], ('SA193 GrB8MACL', 0.9536864161491394)], [[[10.0, 298.0], [155.0, 298.0], [155.0, 322.0], [10.0, 322.0]], ('3 shell flanges', 0.9278576374053955)], [[[559.0, 298.0], [702.0, 298.0], [702.0, 322.0], [559.0, 322.0]], ('Not Applicable', 0.9892406463623047)], [[[1293.0, 295.0], [1331.0, 295.0], [1331.0, 324.0], [1293.0, 324.0]], ('1A', 0.9975205659866333)], [[[10.0, 329.0], [205.0, 329.0], [205.0, 352.0], [10.0, 352.0]], ('4nozzles (line pipe', 0.9542262554168701)], [[[587.0, 327.0], [676.0, 327.0], [676.0, 351.0], [587.0, 351.0]], ('SA 105N', 0.9313658475875854)], [[[745.0, 329.0], [913.0, 327.0], [913.0, 351.0], [745.0, 352.0]], ('gaskets,external', 0.9812545776367188)], [[[1299.0, 327.0], [1340.0, 327.0], [1340.0, 352.0], [1299.0, 352.0]], ('[25]', 0.986953854560852)], [[[10.0, 357.0], [174.0, 357.0], [174.0, 381.0], [10.0, 381.0]], ('5nozzles (plate)', 0.9676398634910583)], [[[559.0, 357.0], [702.0, 357.0], [702.0, 381.0], [559.0, 381.0]], ('Not Applicable', 0.9639925956726074)], [[[745.0, 359.0], [908.0, 359.0], [908.0, 381.0], [745.0, 381.0]], ('gaskets,internal', 0.9816674590110779)], [[[1242.0, 357.0], [1385.0, 357.0], [1385.0, 381.0], [1242.0, 381.0]], ('Not Applicable', 0.9863787889480591)], [[[9.0, 384.0], [415.0, 386.0], [414.0, 410.0], [9.0, 408.0]], ('6cladding/lining of nozzles and manholes', 0.9684765934944153)], [[[559.0, 386.0], [702.0, 386.0], [702.0, 410.0], [559.0, 410.0]], ('Not Applicable', 0.9665109515190125)], [[[745.0, 388.0], [958.0, 388.0], [958.0, 410.0], [745.0, 410.0]], ('grids/beams/supports', 0.9970634579658508)], [[[1242.0, 386.0], [1385.0, 386.0], [1385.0, 410.0], [1242.0, 410.0]], ('Not Applicable', 0.9839882850646973)], [[[8.0, 411.0], [105.0, 417.0], [104.0, 441.0], [6.0, 435.0]], ('7flanges', 0.9827574491500854)], [[[585.0, 415.0], [676.0, 415.0], [676.0, 439.0], [585.0, 439.0]], ('SA105N', 0.9940259456634521)], [[[743.0, 417.0], [932.0, 417.0], [932.0, 439.0], [743.0, 439.0]], ('impingement baffle', 0.9833495616912842)], [[[1262.0, 417.0], [1366.0, 417.0], [1366.0, 435.0], [1262.0, 435.0]], ('SA516Gr', 0.9946667551994324)], [[[9.0, 445.0], [187.0, 445.0], [187.0, 467.0], [9.0, 467.0]], ('8 reinforcing pads', 0.9544122219085693)], [[[559.0, 444.0], [702.0, 444.0], [702.0, 467.0], [559.0, 467.0]], ('Not Applicable', 0.9910441040992737)], [[[1242.0, 440.0], [1385.0, 440.0], [1385.0, 464.0], [1242.0, 464.0]], ('70N+S17+HIC', 0.9909458160400391)], [[[9.0, 473.0], [175.0, 473.0], [175.0, 496.0], [9.0, 496.0]], ('9welding fittings', 0.9737294316291809)], [[[544.0, 473.0], [719.0, 473.0], [719.0, 495.0], [544.0, 495.0]], ('SA 234 Gr WPBN', 0.9166551828384399)], [[[743.0, 473.0], [939.0, 473.0], [939.0, 495.0], [743.0, 495.0]], ('wire gauze / tie wire', 0.9303416013717651)], [[[1242.0, 473.0], [1385.0, 473.0], [1385.0, 496.0], [1242.0, 496.0]], ('Not Applicable', 0.9908495545387268)], [[[0.0, 499.0], [174.0, 503.0], [173.0, 527.0], [0.0, 523.0]], ('10stiffening rings', 0.9663053154945374)], [[[578.0, 500.0], [685.0, 500.0], [685.0, 523.0], [578.0, 523.0]], ('SA 516Gr', 0.9359403848648071)], [[[746.0, 505.0], [872.0, 505.0], [872.0, 523.0], [746.0, 523.0]], ('downcomers', 0.9980891346931458)], [[[1242.0, 501.0], [1385.0, 501.0], [1385.0, 525.0], [1242.0, 525.0]], ('Not Applicable', 0.9815478324890137)], [[[0.0, 528.0], [29.0, 528.0], [29.0, 552.0], [0.0, 552.0]], ('11', 0.9974406957626343)], [[[561.0, 528.0], [703.0, 528.0], [703.0, 552.0], [561.0, 552.0]], ('70N+S17+HIC', 0.988633930683136)], [[[744.0, 526.0], [814.0, 531.0], [812.0, 556.0], [743.0, 552.0]], ('baffles', 0.9881661534309387)], [[[1262.0, 532.0], [1366.0, 532.0], [1366.0, 550.0], [1262.0, 550.0]], ('SA516Gr', 0.9937748312950134)], [[[0.0, 559.0], [29.0, 559.0], [29.0, 583.0], [0.0, 583.0]], ('12', 0.9976824522018433)], [[[1242.0, 557.0], [1385.0, 557.0], [1385.0, 581.0], [1242.0, 581.0]], ('70N+S17+HIC', 0.9931438565254211)], [[[0.0, 589.0], [29.0, 589.0], [29.0, 611.0], [0.0, 611.0]], ('13', 0.997707724571228)], [[[674.0, 588.0], [777.0, 588.0], [777.0, 611.0], [674.0, 611.0]], ('Nozzles', 0.9983276724815369)], [[[0.0, 614.0], [85.0, 619.0], [83.0, 644.0], [0.0, 640.0]], ('14mark', 0.9968180656433105)], [[[614.0, 618.0], [647.0, 618.0], [647.0, 640.0], [614.0, 640.0]], ('A1', 0.9980477094650269)], [[[841.0, 618.0], [874.0, 618.0], [874.0, 640.0], [841.0, 640.0]], ('A2', 0.9991229176521301)], [[[1066.0, 618.0], [1102.0, 618.0], [1102.0, 642.0], [1066.0, 642.0]], ('A3', 0.9991945028305054)], [[[1297.0, 618.0], [1330.0, 618.0], [1330.0, 640.0], [1297.0, 640.0]], ('B1', 0.9970269203186035)], [[[0.0, 647.0], [193.0, 647.0], [193.0, 671.0], [0.0, 671.0]], ('15number required', 0.9935742616653442)], [[[617.0, 647.0], [642.0, 647.0], [642.0, 669.0], [617.0, 669.0]], ('1', 0.9972810745239258)], [[[850.0, 649.0], [865.0, 649.0], [865.0, 669.0], [850.0, 669.0]], ('1', 0.9995055198669434)], [[[1302.0, 647.0], [1324.0, 647.0], [1324.0, 671.0], [1302.0, 671.0]], ('1', 0.9980677962303162)], [[[0.0, 676.0], [103.0, 676.0], [103.0, 700.0], [0.0, 700.0]], ('16service', 0.9958174228668213)], [[[587.0, 674.0], [674.0, 674.0], [674.0, 698.0], [587.0, 698.0]], ('SW inlet', 0.9338233470916748)], [[[779.0, 676.0], [936.0, 676.0], [936.0, 700.0], [779.0, 700.0]], ('Mounting flange', 0.995182454586029)], [[[1018.0, 676.0], [1149.0, 676.0], [1149.0, 700.0], [1018.0, 700.0]], ('Nitrogen inlet', 0.9950894117355347)], [[[1264.0, 676.0], [1366.0, 676.0], [1366.0, 700.0], [1264.0, 700.0]], ('SW outlet', 0.9709470272064209)], [[[0.0, 701.0], [105.0, 705.0], [104.0, 730.0], [0.0, 726.0]], ('17velocity', 0.9924189448356628)], [[[473.0, 705.0], [518.0, 705.0], [518.0, 730.0], [473.0, 730.0]], ('m/s', 0.9950615763664246)], [[[617.0, 703.0], [659.0, 703.0], [659.0, 730.0], [617.0, 730.0]], ('[23]', 0.9828336238861084)], [[[843.0, 703.0], [884.0, 703.0], [884.0, 730.0], [843.0, 730.0]], ('[23]', 0.9845589995384216)], [[[1070.0, 703.0], [1111.0, 703.0], [1111.0, 732.0], [1070.0, 732.0]], ('[23]', 0.9719921946525574)], [[[1299.0, 703.0], [1342.0, 703.0], [1342.0, 730.0], [1299.0, 730.0]], ('[23]', 0.9860599040985107)], [[[0.0, 732.0], [200.0, 733.0], [199.0, 757.0], [0.0, 755.0]], ('18nominal diameter', 0.9861404895782471)], [[[621.0, 732.0], [642.0, 732.0], [642.0, 755.0], [621.0, 755.0]], ('4', 0.999017596244812)], [[[843.0, 732.0], [872.0, 732.0], [872.0, 755.0], [843.0, 755.0]], ('12', 0.9996093511581421)], [[[1073.0, 732.0], [1094.0, 732.0], [1094.0, 755.0], [1073.0, 755.0]], ('2', 0.9979358911514282)], [[[1305.0, 735.0], [1323.0, 735.0], [1323.0, 754.0], [1305.0, 754.0]], ('6', 0.9918084740638733)], [[[0.0, 760.0], [153.0, 764.0], [153.0, 788.0], [0.0, 784.0]], ('19flange rating', 0.9847838878631592)], [[[595.0, 762.0], [669.0, 762.0], [669.0, 786.0], [595.0, 786.0]], ('150lbs', 0.9263460636138916)], [[[819.0, 762.0], [894.0, 762.0], [894.0, 786.0], [819.0, 786.0]], ('150lbs', 0.9136970639228821)], [[[1022.0, 762.0], [1144.0, 762.0], [1144.0, 786.0], [1022.0, 786.0]], ('300 lbs [23]', 0.9033762812614441)], [[[1276.0, 762.0], [1352.0, 762.0], [1352.0, 786.0], [1276.0, 786.0]], ('150 lbs', 0.8677791953086853)], [[[0.0, 789.0], [76.0, 793.0], [75.0, 818.0], [0.0, 814.0]], ('20 type', 0.9224737286567688)], [[[573.0, 791.0], [688.0, 791.0], [688.0, 815.0], [573.0, 815.0]], ('SRWN [10]', 0.9417490363121033)], [[[798.0, 791.0], [915.0, 791.0], [915.0, 815.0], [798.0, 815.0]], ('SRWN [10]', 0.9431297779083252)], [[[1022.0, 789.0], [1142.0, 789.0], [1142.0, 818.0], [1022.0, 818.0]], ('SRWN [10]', 0.951328694820404)], [[[1256.0, 791.0], [1371.0, 791.0], [1371.0, 815.0], [1256.0, 815.0]], ('SRWN [10]', 0.9454599022865295)], [[[0.0, 814.0], [205.0, 822.0], [204.0, 851.0], [0.0, 843.0]], ('21flange facing type', 0.9820824861526489)], [[[614.0, 821.0], [650.0, 821.0], [650.0, 845.0], [614.0, 845.0]], ('RF', 0.9782987833023071)], [[[841.0, 821.0], [874.0, 821.0], [874.0, 843.0], [841.0, 843.0]], ('RF', 0.9909229278564453)], [[[1066.0, 821.0], [1099.0, 821.0], [1099.0, 843.0], [1066.0, 843.0]], ('RF', 0.9913327097892761)], [[[1297.0, 821.0], [1330.0, 821.0], [1330.0, 843.0], [1297.0, 843.0]], ('RF', 0.9897370934486389)], [[[0.0, 850.0], [213.0, 850.0], [213.0, 874.0], [0.0, 874.0]], ('22flange facing finish', 0.988716721534729)], [[[569.0, 850.0], [691.0, 850.0], [691.0, 874.0], [569.0, 874.0]], ('3,2-6,3m', 0.9274704456329346)], [[[796.0, 850.0], [918.0, 850.0], [918.0, 874.0], [796.0, 874.0]], ('3,2-6,3 m', 0.8994085788726807)], [[[1022.0, 850.0], [1144.0, 850.0], [1144.0, 874.0], [1022.0, 874.0]], ('3,2-6,3 m', 0.8987706303596497)], [[[1252.0, 850.0], [1374.0, 850.0], [1374.0, 874.0], [1252.0, 874.0]], ('3,2-6,3 m', 0.8906534910202026)], [[[0.0, 879.0], [114.0, 879.0], [114.0, 903.0], [0.0, 903.0]], ('23remarks', 0.9958652853965759)], [[[540.0, 879.0], [724.0, 879.0], [724.0, 901.0], [540.0, 901.0]], ('With a Stilling Well', 0.9534926414489746)], [[[841.0, 891.0], [884.0, 891.0], [884.0, 918.0], [841.0, 918.0]], ('[12]', 0.9857473373413086)], [[[0.0, 902.0], [32.0, 907.0], [28.0, 934.0], [0.0, 929.0]], ('24', 0.9972240328788757)], [[[1216.0, 893.0], [1410.0, 893.0], [1410.0, 915.0], [1216.0, 915.0]], ('With Vortex Breaker', 0.951612651348114)], [[[609.0, 904.0], [652.0, 904.0], [652.0, 932.0], [609.0, 932.0]], ('[11]', 0.9897867441177368)], [[[0.0, 933.0], [31.0, 933.0], [31.0, 962.0], [0.0, 962.0]], ('25', 0.9953060150146484)], [[[676.0, 937.0], [777.0, 937.0], [777.0, 960.0], [676.0, 960.0]], ('Nozzles', 0.9973291754722595)], [[[0.0, 965.0], [84.0, 965.0], [84.0, 989.0], [0.0, 989.0]], ('26mark', 0.9949008822441101)], [[[614.0, 964.0], [648.0, 964.0], [648.0, 991.0], [614.0, 991.0]], ('B2', 0.9984186887741089)], [[[839.0, 964.0], [875.0, 964.0], [875.0, 991.0], [839.0, 991.0]], ('B3', 0.9988696575164795)], [[[1049.0, 964.0], [1118.0, 964.0], [1118.0, 987.0], [1049.0, 987.0]], ('D1-D3', 0.9871428608894348)], [[[1280.0, 964.0], [1347.0, 964.0], [1347.0, 989.0], [1280.0, 989.0]], ('S1-S2', 0.995104968547821)], [[[0.0, 994.0], [191.0, 994.0], [191.0, 1016.0], [0.0, 1016.0]], ('27number required', 0.9710391759872437)], [[[619.0, 994.0], [643.0, 994.0], [643.0, 1018.0], [619.0, 1018.0]], ('1', 0.9961624145507812)], [[[846.0, 993.0], [869.0, 993.0], [869.0, 1018.0], [846.0, 1018.0]], ('1', 0.9963984489440918)], [[[1073.0, 993.0], [1094.0, 993.0], [1094.0, 1020.0], [1073.0, 1020.0]], ('3', 0.999064028263092)], [[[1302.0, 993.0], [1324.0, 993.0], [1324.0, 1018.0], [1302.0, 1018.0]], ('2', 0.998594343662262)], [[[0.0, 1021.0], [105.0, 1025.0], [104.0, 1050.0], [0.0, 1046.0]], ('28service', 0.9960392713546753)], [[[581.0, 1021.0], [678.0, 1021.0], [678.0, 1045.0], [581.0, 1045.0]], ('HC outlet', 0.9463121891021729)], [[[760.0, 1025.0], [955.0, 1025.0], [955.0, 1047.0], [760.0, 1047.0]], ('For Scrubber flange', 0.9714834094047546)], [[[1054.0, 1023.0], [1113.0, 1023.0], [1113.0, 1048.0], [1054.0, 1048.0]], ('Drain', 0.9982431530952454)], [[[1264.0, 1026.0], [1364.0, 1026.0], [1364.0, 1045.0], [1264.0, 1045.0]], ('Steam out', 0.96833735704422)], [[[0.0, 1054.0], [107.0, 1054.0], [107.0, 1077.0], [0.0, 1077.0]], ('29velocity', 0.9945574998855591)], [[[473.0, 1052.0], [518.0, 1052.0], [518.0, 1077.0], [473.0, 1077.0]], ('m/s', 0.993187427520752)], [[[617.0, 1052.0], [659.0, 1052.0], [659.0, 1079.0], [617.0, 1079.0]], ('[23]', 0.9880081415176392)], [[[843.0, 1052.0], [884.0, 1052.0], [884.0, 1079.0], [843.0, 1079.0]], ('[23]', 0.99070143699646)], [[[1068.0, 1052.0], [1111.0, 1052.0], [1111.0, 1079.0], [1068.0, 1079.0]], ('[23]', 0.9935657978057861)], [[[1299.0, 1052.0], [1342.0, 1052.0], [1342.0, 1079.0], [1299.0, 1079.0]], ('[23]', 0.9903699159622192)], [[[0.0, 1082.0], [200.0, 1082.0], [200.0, 1104.0], [0.0, 1104.0]], ('30nominal diameter', 0.9815133213996887)], [[[619.0, 1081.0], [643.0, 1081.0], [643.0, 1104.0], [619.0, 1104.0]], ('3', 0.9980273842811584)], [[[841.0, 1082.0], [874.0, 1082.0], [874.0, 1104.0], [841.0, 1104.0]], ('18', 0.9985474348068237)], [[[1075.0, 1074.0], [1099.0, 1085.0], [1087.0, 1111.0], [1063.0, 1100.0]], ('3', 0.9932896494865417)], [[[1302.0, 1081.0], [1324.0, 1081.0], [1324.0, 1106.0], [1302.0, 1106.0]], ('2', 0.9981750249862671)], [[[0.0, 1106.0], [153.0, 1110.0], [153.0, 1138.0], [0.0, 1135.0]], ('31flange rating', 0.9632670879364014)], [[[593.0, 1109.0], [669.0, 1109.0], [669.0, 1135.0], [593.0, 1135.0]], ('150lbs', 0.9171974658966064)], [[[819.0, 1109.0], [896.0, 1109.0], [896.0, 1135.0], [819.0, 1135.0]], ('150lbs', 0.9170693755149841)], [[[1046.0, 1109.0], [1121.0, 1109.0], [1121.0, 1135.0], [1046.0, 1135.0]], ('150 lbs', 0.8815550208091736)], [[[1278.0, 1109.0], [1352.0, 1109.0], [1352.0, 1135.0], [1278.0, 1135.0]], ('150lbs', 0.9155499339103699)], [[[0.0, 1134.0], [76.0, 1140.0], [74.0, 1166.0], [0.0, 1160.0]], ('32type', 0.9940910339355469)], [[[571.0, 1140.0], [688.0, 1140.0], [688.0, 1164.0], [571.0, 1164.0]], ('SRWN [10]', 0.9616875052452087)], [[[796.0, 1137.0], [917.0, 1137.0], [917.0, 1165.0], [796.0, 1165.0]], ('SRWN[10]', 0.977577805519104)], [[[1023.0, 1140.0], [1142.0, 1140.0], [1142.0, 1164.0], [1023.0, 1164.0]], ('SRWN [10]', 0.9521791934967041)], [[[1254.0, 1140.0], [1373.0, 1140.0], [1373.0, 1164.0], [1254.0, 1164.0]], ('SRWN [10]', 0.9461686611175537)], [[[0.0, 1167.0], [203.0, 1171.0], [203.0, 1194.0], [0.0, 1191.0]], ('33flange facing type', 0.9569689035415649)], [[[614.0, 1169.0], [647.0, 1169.0], [647.0, 1191.0], [614.0, 1191.0]], ('RF', 0.9921413660049438)], [[[841.0, 1169.0], [874.0, 1169.0], [874.0, 1191.0], [841.0, 1191.0]], ('RF', 0.9901909828186035)], [[[1066.0, 1169.0], [1099.0, 1169.0], [1099.0, 1191.0], [1066.0, 1191.0]], ('RF', 0.9917621612548828)], [[[1297.0, 1169.0], [1330.0, 1169.0], [1330.0, 1191.0], [1297.0, 1191.0]], ('RF', 0.9902832508087158)], [[[0.0, 1196.0], [213.0, 1198.0], [213.0, 1221.0], [0.0, 1219.0]], ('34flange facing finish', 0.9840481281280518)], [[[571.0, 1197.0], [691.0, 1197.0], [691.0, 1221.0], [571.0, 1221.0]], ('3,2-6,3 m', 0.9080151319503784)], [[[796.0, 1197.0], [917.0, 1197.0], [917.0, 1221.0], [796.0, 1221.0]], ('3,2-6,3 m', 0.9043505191802979)], [[[1022.0, 1197.0], [1142.0, 1197.0], [1142.0, 1221.0], [1022.0, 1221.0]], ('3,2-6,3 m', 0.9042546153068542)], [[[1252.0, 1197.0], [1374.0, 1197.0], [1374.0, 1221.0], [1252.0, 1221.0]], ('3,2-6,3 m', 0.8786461353302002)], [[[0.0, 1226.0], [114.0, 1226.0], [114.0, 1250.0], [0.0, 1250.0]], ('35remarks', 0.995316207408905)], [[[984.0, 1226.0], [1183.0, 1226.0], [1183.0, 1250.0], [984.0, 1250.0]], ('incl.cover,gasket &', 0.9450528025627136)], [[[1214.0, 1226.0], [1412.0, 1226.0], [1412.0, 1250.0], [1214.0, 1250.0]], ('incl.cover,gasket &', 0.947186291217804)], [[[530.0, 1238.0], [729.0, 1242.0], [729.0, 1264.0], [530.0, 1260.0]], ('With Vortex Breaker', 0.9515423774719238)], [[[827.0, 1240.0], [900.0, 1240.0], [900.0, 1265.0], [827.0, 1265.0]], ('[13,18]', 0.9186354875564575)], [[[0.0, 1252.0], [31.0, 1252.0], [31.0, 1280.0], [0.0, 1280.0]], ('36', 0.9949643015861511)], [[[1049.0, 1255.0], [1118.0, 1255.0], [1118.0, 1279.0], [1049.0, 1279.0]], ('bolting', 0.9981017708778381)], [[[1278.0, 1255.0], [1348.0, 1255.0], [1348.0, 1279.0], [1278.0, 1279.0]], ('bolting', 0.9975988268852234)], [[[0.0, 1286.0], [28.0, 1286.0], [28.0, 1309.0], [0.0, 1309.0]], ('37', 0.9985798597335815)], [[[674.0, 1284.0], [779.0, 1284.0], [779.0, 1308.0], [674.0, 1308.0]], ('Nozzles', 0.9985199570655823)], [[[0.0, 1313.0], [83.0, 1313.0], [83.0, 1336.0], [0.0, 1336.0]], ('38mark', 0.9941927790641785)], [[[612.0, 1311.0], [648.0, 1311.0], [648.0, 1338.0], [612.0, 1338.0]], ('R1', 0.9974651336669922)], [[[838.0, 1311.0], [874.0, 1311.0], [874.0, 1338.0], [838.0, 1338.0]], ('V1', 0.9901772141456604)], [[[1063.0, 1311.0], [1101.0, 1311.0], [1101.0, 1338.0], [1063.0, 1338.0]], ('V2', 0.9908995628356934)], [[[1297.0, 1311.0], [1330.0, 1311.0], [1330.0, 1340.0], [1297.0, 1340.0]], ('W', 0.7114250063896179)], [[[0.0, 1338.0], [196.0, 1338.0], [196.0, 1367.0], [0.0, 1367.0]], ('39number required', 0.9831402897834778)], [[[619.0, 1343.0], [642.0, 1343.0], [642.0, 1365.0], [619.0, 1365.0]], ('1', 0.9976736903190613)], [[[846.0, 1341.0], [869.0, 1341.0], [869.0, 1365.0], [846.0, 1365.0]], ('1', 0.9980098605155945)], [[[1072.0, 1343.0], [1094.0, 1343.0], [1094.0, 1365.0], [1072.0, 1365.0]], ('1', 0.9975212216377258)], [[[1302.0, 1341.0], [1323.0, 1341.0], [1323.0, 1365.0], [1302.0, 1365.0]], ('1', 0.9979885816574097)], [[[0.0, 1372.0], [103.0, 1372.0], [103.0, 1396.0], [0.0, 1396.0]], ('40service', 0.9943633675575256)], [[[602.0, 1370.0], [660.0, 1370.0], [660.0, 1396.0], [602.0, 1396.0]], ('Relief', 0.9927493929862976)], [[[831.0, 1370.0], [882.0, 1370.0], [882.0, 1396.0], [831.0, 1396.0]], ('Vent', 0.9987207055091858)], [[[1032.0, 1372.0], [1135.0, 1372.0], [1135.0, 1396.0], [1032.0, 1396.0]], ('Ventilation', 0.9985578060150146)], [[[1264.0, 1372.0], [1364.0, 1372.0], [1364.0, 1396.0], [1264.0, 1396.0]], ('Aux outlet', 0.9536763429641724)], [[[0.0, 1397.0], [107.0, 1401.0], [106.0, 1425.0], [0.0, 1421.0]], ('41velocity', 0.9938672184944153)], [[[473.0, 1401.0], [519.0, 1401.0], [519.0, 1426.0], [473.0, 1426.0]], ('m/s', 0.991013765335083)], [[[617.0, 1399.0], [657.0, 1399.0], [657.0, 1426.0], [617.0, 1426.0]], ('[23]', 0.9853984713554382)], [[[843.0, 1399.0], [884.0, 1399.0], [884.0, 1426.0], [843.0, 1426.0]], ('[23]', 0.9847180843353271)], [[[1070.0, 1399.0], [1109.0, 1399.0], [1109.0, 1426.0], [1070.0, 1426.0]], ('[23]', 0.9091860055923462)], [[[1299.0, 1399.0], [1340.0, 1399.0], [1340.0, 1426.0], [1299.0, 1426.0]], ('[23]', 0.9875410795211792)], [[[0.0, 1424.0], [201.0, 1428.0], [201.0, 1457.0], [0.0, 1453.0]], ('42nominal diameter', 0.9904900789260864)], [[[624.0, 1430.0], [640.0, 1430.0], [640.0, 1452.0], [624.0, 1452.0]], ('8', 0.9973299503326416)], [[[846.0, 1428.0], [869.0, 1428.0], [869.0, 1453.0], [846.0, 1453.0]], ('2', 0.9986985921859741)], [[[1072.0, 1428.0], [1094.0, 1428.0], [1094.0, 1453.0], [1072.0, 1453.0]], ('8', 0.9953116774559021)], [[[1302.0, 1428.0], [1324.0, 1428.0], [1324.0, 1453.0], [1302.0, 1453.0]], ('6', 0.9882029891014099)], [[[0.0, 1456.0], [153.0, 1460.0], [153.0, 1484.0], [0.0, 1480.0]], ('43flange rating', 0.9841272234916687)], [[[571.0, 1458.0], [690.0, 1458.0], [690.0, 1482.0], [571.0, 1482.0]], ('150 lbs [23]', 0.9042885303497314)], [[[796.0, 1458.0], [917.0, 1458.0], [917.0, 1482.0], [796.0, 1482.0]], ('300 Ibs [23]', 0.9047212600708008)], [[[1044.0, 1458.0], [1121.0, 1458.0], [1121.0, 1482.0], [1044.0, 1482.0]], ('150lbs', 0.9252977967262268)], [[[1276.0, 1458.0], [1350.0, 1458.0], [1350.0, 1482.0], [1276.0, 1482.0]], ('150 lbs', 0.8641923069953918)], [[[0.0, 1485.0], [76.0, 1489.0], [75.0, 1515.0], [0.0, 1510.0]], ('44type', 0.9881176948547363)], [[[573.0, 1487.0], [688.0, 1487.0], [688.0, 1511.0], [573.0, 1511.0]], ('SRWN [10]', 0.9425521492958069)], [[[798.0, 1487.0], [917.0, 1487.0], [917.0, 1511.0], [798.0, 1511.0]], ('SRWN [10]', 0.9424613118171692)], [[[1023.0, 1487.0], [1142.0, 1487.0], [1142.0, 1511.0], [1023.0, 1511.0]], ('SRWN[10]', 0.9859702587127686)], [[[1256.0, 1487.0], [1373.0, 1487.0], [1373.0, 1511.0], [1256.0, 1511.0]], ('SRWN [10]', 0.9398047924041748)], [[[0.0, 1514.0], [201.0, 1518.0], [201.0, 1541.0], [0.0, 1538.0]], ('45flange facing type', 0.9541422724723816)], [[[612.0, 1514.0], [650.0, 1514.0], [650.0, 1541.0], [612.0, 1541.0]], ('RF', 0.9638761281967163)], [[[838.0, 1514.0], [875.0, 1514.0], [875.0, 1541.0], [838.0, 1541.0]], ('RF', 0.9896039366722107)], [[[1060.0, 1515.0], [1098.0, 1511.0], [1102.0, 1539.0], [1064.0, 1544.0]], ('RF', 0.9783742427825928)], [[[1295.0, 1514.0], [1333.0, 1514.0], [1333.0, 1541.0], [1295.0, 1541.0]], ('RF', 0.9867726564407349)], [[[0.0, 1543.0], [210.0, 1545.0], [210.0, 1568.0], [0.0, 1567.0]], ('46flange facing finish', 0.960900068283081)], [[[566.0, 1543.0], [690.0, 1543.0], [690.0, 1572.0], [566.0, 1572.0]], ('3,2-6,3 m', 0.8723796606063843)], [[[796.0, 1545.0], [917.0, 1545.0], [917.0, 1568.0], [796.0, 1568.0]], ('3,2-6,3m', 0.9293360710144043)], [[[1020.0, 1543.0], [1144.0, 1543.0], [1144.0, 1572.0], [1020.0, 1572.0]], ('3,2-6,3 m', 0.9227021336555481)], [[[1252.0, 1545.0], [1371.0, 1545.0], [1371.0, 1568.0], [1252.0, 1568.0]], ('3,2-6,3m', 0.9362835884094238)], [[[0.0, 1572.0], [114.0, 1575.0], [113.0, 1599.0], [0.0, 1595.0]], ('47remarks', 0.9951049089431763)], [[[757.0, 1575.0], [956.0, 1575.0], [956.0, 1599.0], [757.0, 1599.0]], ('incl.cover,gasket &', 0.937140703201294)], [[[984.0, 1575.0], [1182.0, 1575.0], [1182.0, 1597.0], [984.0, 1597.0]], ('incl.cover,gasket &', 0.9549259543418884)], [[[821.0, 1597.0], [893.0, 1601.0], [892.0, 1625.0], [820.0, 1622.0]], ('bolting', 0.9973638653755188)], [[[1048.0, 1598.0], [1118.0, 1603.0], [1117.0, 1625.0], [1047.0, 1622.0]], ('bolting', 0.9976778030395508)], [[[1214.0, 1589.0], [1412.0, 1589.0], [1412.0, 1611.0], [1214.0, 1611.0]], ('With Vortex Breaker', 0.9678071737289429)], [[[0.0, 1599.0], [33.0, 1599.0], [33.0, 1625.0], [0.0, 1625.0]], ('48', 0.9938977956771851)]]\n"
          ]
        }
      ]
    },
    {
      "cell_type": "code",
      "source": [
        "boxes = [line[0] for line in output]\n",
        "texts = [line[1][0] for line in output]\n",
        "probabilities = [line[1][1] for line in output]"
      ],
      "metadata": {
        "id": "APnB6YCl_ZQk"
      },
      "execution_count": 48,
      "outputs": []
    },
    {
      "cell_type": "code",
      "source": [
        "image_boxes = image_cv.copy()\n"
      ],
      "metadata": {
        "id": "9TNLrIKw_alS"
      },
      "execution_count": 49,
      "outputs": []
    },
    {
      "cell_type": "code",
      "source": [
        "for box,text in zip(boxes,texts):\n",
        "  cv2.rectangle(image_boxes, (int(box[0][0]),int(box[0][1])), (int(box[2][0]),int(box[2][1])),(0,0,255),1)\n",
        "  cv2.putText(image_boxes, text,(int(box[0][0]),int(box[0][1])),cv2.FONT_HERSHEY_SIMPLEX,1,(222,0,0),1)"
      ],
      "metadata": {
        "id": "C_s_TNsN_b6v"
      },
      "execution_count": 50,
      "outputs": []
    },
    {
      "cell_type": "code",
      "source": [
        "cv2.imwrite('detections.jpg', image_boxes)"
      ],
      "metadata": {
        "colab": {
          "base_uri": "https://localhost:8080/"
        },
        "id": "0nqkavHW_dY9",
        "outputId": "6f38faf6-a3ae-4ff0-ca53-1ee3f429509d"
      },
      "execution_count": 51,
      "outputs": [
        {
          "output_type": "execute_result",
          "data": {
            "text/plain": [
              "True"
            ]
          },
          "metadata": {},
          "execution_count": 51
        }
      ]
    },
    {
      "cell_type": "code",
      "source": [
        "im = image_cv.copy()"
      ],
      "metadata": {
        "id": "mVuqMz6Q_f5T"
      },
      "execution_count": 52,
      "outputs": []
    },
    {
      "cell_type": "code",
      "source": [
        "horiz_boxes = []\n",
        "vert_boxes = []\n",
        "\n",
        "for box in boxes:\n",
        "  x_h, x_v = 0,int(box[0][0])\n",
        "  y_h, y_v = int(box[0][1]),0\n",
        "  width_h,width_v = image_width, int(box[2][0]-box[0][0])\n",
        "  height_h,height_v = int(box[2][1]-box[0][1]),image_height\n",
        "\n",
        "  horiz_boxes.append([x_h,y_h,x_h+width_h,y_h+height_h])\n",
        "  vert_boxes.append([x_v,y_v,x_v+width_v,y_v+height_v])\n",
        "\n",
        "  cv2.rectangle(im,(x_h,y_h), (x_h+width_h,y_h+height_h),(0,0,255),1)\n",
        "  cv2.rectangle(im,(x_v,y_v), (x_v+width_v,y_v+height_v),(0,255,0),1)"
      ],
      "metadata": {
        "id": "RTo2C37k_ip1"
      },
      "execution_count": 53,
      "outputs": []
    },
    {
      "cell_type": "code",
      "source": [
        "cv2.imwrite('horiz_vert.jpg',im)"
      ],
      "metadata": {
        "colab": {
          "base_uri": "https://localhost:8080/"
        },
        "id": "9lQEGUSx_kSm",
        "outputId": "2de570a1-2331-43cf-8f6f-7ea3519960bb"
      },
      "execution_count": 54,
      "outputs": [
        {
          "output_type": "execute_result",
          "data": {
            "text/plain": [
              "True"
            ]
          },
          "metadata": {},
          "execution_count": 54
        }
      ]
    },
    {
      "cell_type": "code",
      "source": [
        "!pip3 install tensorflow"
      ],
      "metadata": {
        "colab": {
          "base_uri": "https://localhost:8080/"
        },
        "id": "fND4rHJ-ABBq",
        "outputId": "8fe60cfb-df22-41a4-e7f6-1819806ebf09"
      },
      "execution_count": 56,
      "outputs": [
        {
          "output_type": "stream",
          "name": "stdout",
          "text": [
            "Requirement already satisfied: tensorflow in /usr/local/lib/python3.10/dist-packages (2.15.0)\n",
            "Requirement already satisfied: absl-py>=1.0.0 in /usr/local/lib/python3.10/dist-packages (from tensorflow) (1.4.0)\n",
            "Requirement already satisfied: astunparse>=1.6.0 in /usr/local/lib/python3.10/dist-packages (from tensorflow) (1.6.3)\n",
            "Requirement already satisfied: flatbuffers>=23.5.26 in /usr/local/lib/python3.10/dist-packages (from tensorflow) (23.5.26)\n",
            "Requirement already satisfied: gast!=0.5.0,!=0.5.1,!=0.5.2,>=0.2.1 in /usr/local/lib/python3.10/dist-packages (from tensorflow) (0.5.4)\n",
            "Requirement already satisfied: google-pasta>=0.1.1 in /usr/local/lib/python3.10/dist-packages (from tensorflow) (0.2.0)\n",
            "Requirement already satisfied: h5py>=2.9.0 in /usr/local/lib/python3.10/dist-packages (from tensorflow) (3.9.0)\n",
            "Requirement already satisfied: libclang>=13.0.0 in /usr/local/lib/python3.10/dist-packages (from tensorflow) (16.0.6)\n",
            "Requirement already satisfied: ml-dtypes~=0.2.0 in /usr/local/lib/python3.10/dist-packages (from tensorflow) (0.2.0)\n",
            "Requirement already satisfied: numpy<2.0.0,>=1.23.5 in /usr/local/lib/python3.10/dist-packages (from tensorflow) (1.23.5)\n",
            "Requirement already satisfied: opt-einsum>=2.3.2 in /usr/local/lib/python3.10/dist-packages (from tensorflow) (3.3.0)\n",
            "Requirement already satisfied: packaging in /usr/local/lib/python3.10/dist-packages (from tensorflow) (23.2)\n",
            "Requirement already satisfied: protobuf!=4.21.0,!=4.21.1,!=4.21.2,!=4.21.3,!=4.21.4,!=4.21.5,<5.0.0dev,>=3.20.3 in /usr/local/lib/python3.10/dist-packages (from tensorflow) (3.20.3)\n",
            "Requirement already satisfied: setuptools in /usr/local/lib/python3.10/dist-packages (from tensorflow) (67.7.2)\n",
            "Requirement already satisfied: six>=1.12.0 in /usr/local/lib/python3.10/dist-packages (from tensorflow) (1.16.0)\n",
            "Requirement already satisfied: termcolor>=1.1.0 in /usr/local/lib/python3.10/dist-packages (from tensorflow) (2.4.0)\n",
            "Requirement already satisfied: typing-extensions>=3.6.6 in /usr/local/lib/python3.10/dist-packages (from tensorflow) (4.9.0)\n",
            "Requirement already satisfied: wrapt<1.15,>=1.11.0 in /usr/local/lib/python3.10/dist-packages (from tensorflow) (1.14.1)\n",
            "Requirement already satisfied: tensorflow-io-gcs-filesystem>=0.23.1 in /usr/local/lib/python3.10/dist-packages (from tensorflow) (0.35.0)\n",
            "Requirement already satisfied: grpcio<2.0,>=1.24.3 in /usr/local/lib/python3.10/dist-packages (from tensorflow) (1.60.0)\n",
            "Requirement already satisfied: tensorboard<2.16,>=2.15 in /usr/local/lib/python3.10/dist-packages (from tensorflow) (2.15.1)\n",
            "Requirement already satisfied: tensorflow-estimator<2.16,>=2.15.0 in /usr/local/lib/python3.10/dist-packages (from tensorflow) (2.15.0)\n",
            "Requirement already satisfied: keras<2.16,>=2.15.0 in /usr/local/lib/python3.10/dist-packages (from tensorflow) (2.15.0)\n",
            "Requirement already satisfied: wheel<1.0,>=0.23.0 in /usr/local/lib/python3.10/dist-packages (from astunparse>=1.6.0->tensorflow) (0.42.0)\n",
            "Requirement already satisfied: google-auth<3,>=1.6.3 in /usr/local/lib/python3.10/dist-packages (from tensorboard<2.16,>=2.15->tensorflow) (2.17.3)\n",
            "Requirement already satisfied: google-auth-oauthlib<2,>=0.5 in /usr/local/lib/python3.10/dist-packages (from tensorboard<2.16,>=2.15->tensorflow) (1.2.0)\n",
            "Requirement already satisfied: markdown>=2.6.8 in /usr/local/lib/python3.10/dist-packages (from tensorboard<2.16,>=2.15->tensorflow) (3.5.1)\n",
            "Requirement already satisfied: requests<3,>=2.21.0 in /usr/local/lib/python3.10/dist-packages (from tensorboard<2.16,>=2.15->tensorflow) (2.31.0)\n",
            "Requirement already satisfied: tensorboard-data-server<0.8.0,>=0.7.0 in /usr/local/lib/python3.10/dist-packages (from tensorboard<2.16,>=2.15->tensorflow) (0.7.2)\n",
            "Requirement already satisfied: werkzeug>=1.0.1 in /usr/local/lib/python3.10/dist-packages (from tensorboard<2.16,>=2.15->tensorflow) (3.0.1)\n",
            "Requirement already satisfied: cachetools<6.0,>=2.0.0 in /usr/local/lib/python3.10/dist-packages (from google-auth<3,>=1.6.3->tensorboard<2.16,>=2.15->tensorflow) (5.3.2)\n",
            "Requirement already satisfied: pyasn1-modules>=0.2.1 in /usr/local/lib/python3.10/dist-packages (from google-auth<3,>=1.6.3->tensorboard<2.16,>=2.15->tensorflow) (0.3.0)\n",
            "Requirement already satisfied: rsa<5,>=3.1.4 in /usr/local/lib/python3.10/dist-packages (from google-auth<3,>=1.6.3->tensorboard<2.16,>=2.15->tensorflow) (4.9)\n",
            "Requirement already satisfied: requests-oauthlib>=0.7.0 in /usr/local/lib/python3.10/dist-packages (from google-auth-oauthlib<2,>=0.5->tensorboard<2.16,>=2.15->tensorflow) (1.3.1)\n",
            "Requirement already satisfied: charset-normalizer<4,>=2 in /usr/local/lib/python3.10/dist-packages (from requests<3,>=2.21.0->tensorboard<2.16,>=2.15->tensorflow) (3.3.2)\n",
            "Requirement already satisfied: idna<4,>=2.5 in /usr/local/lib/python3.10/dist-packages (from requests<3,>=2.21.0->tensorboard<2.16,>=2.15->tensorflow) (3.6)\n",
            "Requirement already satisfied: urllib3<3,>=1.21.1 in /usr/local/lib/python3.10/dist-packages (from requests<3,>=2.21.0->tensorboard<2.16,>=2.15->tensorflow) (2.0.7)\n",
            "Requirement already satisfied: certifi>=2017.4.17 in /usr/local/lib/python3.10/dist-packages (from requests<3,>=2.21.0->tensorboard<2.16,>=2.15->tensorflow) (2023.11.17)\n",
            "Requirement already satisfied: MarkupSafe>=2.1.1 in /usr/local/lib/python3.10/dist-packages (from werkzeug>=1.0.1->tensorboard<2.16,>=2.15->tensorflow) (2.1.3)\n",
            "Requirement already satisfied: pyasn1<0.6.0,>=0.4.6 in /usr/local/lib/python3.10/dist-packages (from pyasn1-modules>=0.2.1->google-auth<3,>=1.6.3->tensorboard<2.16,>=2.15->tensorflow) (0.5.1)\n",
            "Requirement already satisfied: oauthlib>=3.0.0 in /usr/local/lib/python3.10/dist-packages (from requests-oauthlib>=0.7.0->google-auth-oauthlib<2,>=0.5->tensorboard<2.16,>=2.15->tensorflow) (3.2.2)\n",
            "\u001b[33mWARNING: Running pip as the 'root' user can result in broken permissions and conflicting behaviour with the system package manager. It is recommended to use a virtual environment instead: https://pip.pypa.io/warnings/venv\u001b[0m\u001b[33m\n",
            "\u001b[0m"
          ]
        }
      ]
    },
    {
      "cell_type": "code",
      "source": [
        "from PIL import Image\n",
        "import cv2\n",
        "import numpy as np\n",
        "import pandas as pd\n",
        "import tensorflow as tf"
      ],
      "metadata": {
        "id": "ONytgcrFAZsB"
      },
      "execution_count": 60,
      "outputs": []
    },
    {
      "cell_type": "code",
      "source": [
        "\n",
        "horiz_out = tf.image.non_max_suppression(\n",
        "    horiz_boxes,\n",
        "    probabilities,\n",
        "    max_output_size = 1000,\n",
        "    iou_threshold=0.1,\n",
        "    score_threshold=float('-inf'),\n",
        "    name=None\n",
        ")"
      ],
      "metadata": {
        "id": "t_pYVsId_7fS"
      },
      "execution_count": 61,
      "outputs": []
    },
    {
      "cell_type": "code",
      "source": [
        "horiz_lines = np.sort(np.array(horiz_out))\n",
        "print(horiz_lines)"
      ],
      "metadata": {
        "colab": {
          "base_uri": "https://localhost:8080/"
        },
        "id": "nAefGydh_-pE",
        "outputId": "fa83e324-f557-4121-8074-eaa403173596"
      },
      "execution_count": 62,
      "outputs": [
        {
          "output_type": "stream",
          "name": "stdout",
          "text": [
            "[  1   4   6  10  11  15  17  22  26  30  33  38  40  45  48  50  54  57\n",
            "  61  65  67  73  80  83  91  96  98 103 106 110 113 119 124 126 134 137\n",
            " 142 148 152 157 163 165 168 174 179 182 190 193 198 205 208 213 217]\n"
          ]
        }
      ]
    },
    {
      "cell_type": "code",
      "source": [
        "im_nms = image_cv.copy()"
      ],
      "metadata": {
        "id": "NbEAJEepAVln"
      },
      "execution_count": 63,
      "outputs": []
    },
    {
      "cell_type": "code",
      "source": [
        "for val in horiz_lines:\n",
        "  cv2.rectangle(im_nms, (int(horiz_boxes[val][0]),int(horiz_boxes[val][1])), (int(horiz_boxes[val][2]),int(horiz_boxes[val][3])),(0,0,255),1)\n"
      ],
      "metadata": {
        "id": "x-pmS_R4AhFH"
      },
      "execution_count": 64,
      "outputs": []
    },
    {
      "cell_type": "code",
      "source": [
        "cv2.imwrite('im_nms.jpg',im_nms)"
      ],
      "metadata": {
        "colab": {
          "base_uri": "https://localhost:8080/"
        },
        "id": "UpbVb6eBAiEs",
        "outputId": "ca80d545-2768-43f5-9320-a0100936a2ee"
      },
      "execution_count": 65,
      "outputs": [
        {
          "output_type": "execute_result",
          "data": {
            "text/plain": [
              "True"
            ]
          },
          "metadata": {},
          "execution_count": 65
        }
      ]
    },
    {
      "cell_type": "code",
      "source": [
        "vert_out = tf.image.non_max_suppression(\n",
        "    vert_boxes,\n",
        "    probabilities,\n",
        "    max_output_size = 1000,\n",
        "    iou_threshold=0.1,\n",
        "    score_threshold=float('-inf'),\n",
        "    name=None\n",
        ")"
      ],
      "metadata": {
        "id": "GX4gAYbBAjaJ"
      },
      "execution_count": 66,
      "outputs": []
    },
    {
      "cell_type": "code",
      "source": [
        "print(vert_out)"
      ],
      "metadata": {
        "colab": {
          "base_uri": "https://localhost:8080/"
        },
        "id": "6YvgnBGcAk2o",
        "outputId": "b61bf596-16da-4b0d-b4a5-d016163ca815"
      },
      "execution_count": 67,
      "outputs": [
        {
          "output_type": "stream",
          "name": "stdout",
          "text": [
            "tf.Tensor([ 80  10  61  79   1 120 165   7 166   6  73], shape=(11,), dtype=int32)\n"
          ]
        }
      ]
    },
    {
      "cell_type": "code",
      "source": [
        "vert_lines = np.sort(np.array(vert_out))\n",
        "print(vert_lines)"
      ],
      "metadata": {
        "colab": {
          "base_uri": "https://localhost:8080/"
        },
        "id": "yH3GBDrGAmBd",
        "outputId": "a93f2b8d-ecbc-4b27-dc6c-902a051b6c87"
      },
      "execution_count": 68,
      "outputs": [
        {
          "output_type": "stream",
          "name": "stdout",
          "text": [
            "[  1   6   7  10  61  73  79  80 120 165 166]\n"
          ]
        }
      ]
    },
    {
      "cell_type": "code",
      "source": [
        "for val in vert_lines:\n",
        "  cv2.rectangle(im_nms, (int(vert_boxes[val][0]),int(vert_boxes[val][1])), (int(vert_boxes[val][2]),int(vert_boxes[val][3])),(255,0,0),1)\n"
      ],
      "metadata": {
        "id": "DWwinRVcAnOJ"
      },
      "execution_count": 69,
      "outputs": []
    },
    {
      "cell_type": "code",
      "source": [
        "cv2.imwrite('im_nms.jpg',im_nms)"
      ],
      "metadata": {
        "colab": {
          "base_uri": "https://localhost:8080/"
        },
        "id": "-47rZiAkAoZt",
        "outputId": "c12955d3-b681-48cb-ef56-8911993083a9"
      },
      "execution_count": 70,
      "outputs": [
        {
          "output_type": "execute_result",
          "data": {
            "text/plain": [
              "True"
            ]
          },
          "metadata": {},
          "execution_count": 70
        }
      ]
    },
    {
      "cell_type": "markdown",
      "source": [
        "\n",
        "\n",
        "## Convert to CSV"
      ],
      "metadata": {
        "id": "9pCOQEmDAuqC"
      }
    },
    {
      "cell_type": "code",
      "source": [
        "\n",
        "out_array = [[\"\" for i in range(len(vert_lines))] for j in range(len(horiz_lines))]\n",
        "print(np.array(out_array).shape)\n",
        "print(out_array)"
      ],
      "metadata": {
        "colab": {
          "base_uri": "https://localhost:8080/"
        },
        "id": "e7ct-PAhAtP1",
        "outputId": "41691548-2184-4369-a2d8-a250c2c18d1a"
      },
      "execution_count": 72,
      "outputs": [
        {
          "output_type": "stream",
          "name": "stdout",
          "text": [
            "(53, 11)\n",
            "[['', '', '', '', '', '', '', '', '', '', ''], ['', '', '', '', '', '', '', '', '', '', ''], ['', '', '', '', '', '', '', '', '', '', ''], ['', '', '', '', '', '', '', '', '', '', ''], ['', '', '', '', '', '', '', '', '', '', ''], ['', '', '', '', '', '', '', '', '', '', ''], ['', '', '', '', '', '', '', '', '', '', ''], ['', '', '', '', '', '', '', '', '', '', ''], ['', '', '', '', '', '', '', '', '', '', ''], ['', '', '', '', '', '', '', '', '', '', ''], ['', '', '', '', '', '', '', '', '', '', ''], ['', '', '', '', '', '', '', '', '', '', ''], ['', '', '', '', '', '', '', '', '', '', ''], ['', '', '', '', '', '', '', '', '', '', ''], ['', '', '', '', '', '', '', '', '', '', ''], ['', '', '', '', '', '', '', '', '', '', ''], ['', '', '', '', '', '', '', '', '', '', ''], ['', '', '', '', '', '', '', '', '', '', ''], ['', '', '', '', '', '', '', '', '', '', ''], ['', '', '', '', '', '', '', '', '', '', ''], ['', '', '', '', '', '', '', '', '', '', ''], ['', '', '', '', '', '', '', '', '', '', ''], ['', '', '', '', '', '', '', '', '', '', ''], ['', '', '', '', '', '', '', '', '', '', ''], ['', '', '', '', '', '', '', '', '', '', ''], ['', '', '', '', '', '', '', '', '', '', ''], ['', '', '', '', '', '', '', '', '', '', ''], ['', '', '', '', '', '', '', '', '', '', ''], ['', '', '', '', '', '', '', '', '', '', ''], ['', '', '', '', '', '', '', '', '', '', ''], ['', '', '', '', '', '', '', '', '', '', ''], ['', '', '', '', '', '', '', '', '', '', ''], ['', '', '', '', '', '', '', '', '', '', ''], ['', '', '', '', '', '', '', '', '', '', ''], ['', '', '', '', '', '', '', '', '', '', ''], ['', '', '', '', '', '', '', '', '', '', ''], ['', '', '', '', '', '', '', '', '', '', ''], ['', '', '', '', '', '', '', '', '', '', ''], ['', '', '', '', '', '', '', '', '', '', ''], ['', '', '', '', '', '', '', '', '', '', ''], ['', '', '', '', '', '', '', '', '', '', ''], ['', '', '', '', '', '', '', '', '', '', ''], ['', '', '', '', '', '', '', '', '', '', ''], ['', '', '', '', '', '', '', '', '', '', ''], ['', '', '', '', '', '', '', '', '', '', ''], ['', '', '', '', '', '', '', '', '', '', ''], ['', '', '', '', '', '', '', '', '', '', ''], ['', '', '', '', '', '', '', '', '', '', ''], ['', '', '', '', '', '', '', '', '', '', ''], ['', '', '', '', '', '', '', '', '', '', ''], ['', '', '', '', '', '', '', '', '', '', ''], ['', '', '', '', '', '', '', '', '', '', ''], ['', '', '', '', '', '', '', '', '', '', '']]\n"
          ]
        }
      ]
    },
    {
      "cell_type": "code",
      "source": [
        "\n",
        "unordered_boxes = []\n",
        "\n",
        "for i in vert_lines:\n",
        "  print(vert_boxes[i])\n",
        "  unordered_boxes.append(vert_boxes[i][0])"
      ],
      "metadata": {
        "colab": {
          "base_uri": "https://localhost:8080/"
        },
        "id": "wHRzMda-A1GM",
        "outputId": "2ec409c4-3b69-4554-aafc-0f1c48420cbd"
      },
      "execution_count": 73,
      "outputs": [
        {
          "output_type": "stream",
          "name": "stdout",
          "text": [
            "[1164, 0, 1400, 1626]\n",
            "[222, 0, 354, 1626]\n",
            "[31, 0, 107, 1626]\n",
            "[1400, 0, 1426, 1626]\n",
            "[1066, 0, 1102, 1626]\n",
            "[473, 0, 518, 1626]\n",
            "[621, 0, 642, 1626]\n",
            "[843, 0, 872, 1626]\n",
            "[1302, 0, 1324, 1626]\n",
            "[0, 0, 28, 1626]\n",
            "[674, 0, 779, 1626]\n"
          ]
        }
      ]
    },
    {
      "cell_type": "code",
      "source": [
        "ordered_boxes = np.argsort(unordered_boxes)\n",
        "print(ordered_boxes)"
      ],
      "metadata": {
        "colab": {
          "base_uri": "https://localhost:8080/"
        },
        "id": "S1vZCdDvA2f2",
        "outputId": "4e105089-fa19-499c-ef07-b3f5d3a947e2"
      },
      "execution_count": 74,
      "outputs": [
        {
          "output_type": "stream",
          "name": "stdout",
          "text": [
            "[ 9  2  1  5  6 10  7  4  0  8  3]\n"
          ]
        }
      ]
    },
    {
      "cell_type": "code",
      "source": [
        "def intersection(box_1, box_2):\n",
        "  return [box_2[0], box_1[1],box_2[2], box_1[3]]"
      ],
      "metadata": {
        "id": "kFoT-iprA35f"
      },
      "execution_count": 75,
      "outputs": []
    },
    {
      "cell_type": "code",
      "source": [
        "def iou(box_1, box_2):\n",
        "\n",
        "  x_1 = max(box_1[0], box_2[0])\n",
        "  y_1 = max(box_1[1], box_2[1])\n",
        "  x_2 = min(box_1[2], box_2[2])\n",
        "  y_2 = min(box_1[3], box_2[3])\n",
        "\n",
        "  inter = abs(max((x_2 - x_1, 0)) * max((y_2 - y_1), 0))\n",
        "  if inter == 0:\n",
        "      return 0\n",
        "\n",
        "  box_1_area = abs((box_1[2] - box_1[0]) * (box_1[3] - box_1[1]))\n",
        "  box_2_area = abs((box_2[2] - box_2[0]) * (box_2[3] - box_2[1]))\n",
        "\n",
        "  return inter / float(box_1_area + box_2_area - inter)"
      ],
      "metadata": {
        "id": "5tv4AXzvA5OO"
      },
      "execution_count": 76,
      "outputs": []
    },
    {
      "cell_type": "code",
      "source": [
        "for i in range(len(horiz_lines)):\n",
        "  for j in range(len(vert_lines)):\n",
        "    resultant = intersection(horiz_boxes[horiz_lines[i]], vert_boxes[vert_lines[ordered_boxes[j]]] )\n",
        "\n",
        "    for b in range(len(boxes)):\n",
        "      the_box = [boxes[b][0][0],boxes[b][0][1],boxes[b][2][0],boxes[b][2][1]]\n",
        "      if(iou(resultant,the_box)>0.1):\n",
        "        out_array[i][j] = texts[b]"
      ],
      "metadata": {
        "id": "IuZgEAWlA6Xq"
      },
      "execution_count": 77,
      "outputs": []
    },
    {
      "cell_type": "code",
      "source": [
        "out_array=np.array(out_array)"
      ],
      "metadata": {
        "id": "raVVbQc7A7dT"
      },
      "execution_count": 78,
      "outputs": []
    },
    {
      "cell_type": "code",
      "source": [
        "out_array"
      ],
      "metadata": {
        "colab": {
          "base_uri": "https://localhost:8080/"
        },
        "id": "8QLRCBHfA9Og",
        "outputId": "0d8ce566-919c-427f-c1f3-b2b81cd6fa52"
      },
      "execution_count": 79,
      "outputs": [
        {
          "output_type": "execute_result",
          "data": {
            "text/plain": [
              "array([['', 'SS-OIL', 'SS-OIL', '', 'D-230501', '', '', '', 'HDL', '',\n",
              "        ''],\n",
              "       ['', '', '', '', '', 'SOUR WATERFLASHDRUM', '', '', 'CONSORTIUM',\n",
              "        '', ''],\n",
              "       ['', 'Project No.', 'SHAHEEN', '', '', '', '', '', '', '', ''],\n",
              "       ['', 'Client', 'S-OIL CORPORATION', '', '', '', '', '',\n",
              "        'SHAHEEN-2305-ME-EDS-D-230501 ReV.', '', 'A'],\n",
              "       ['', 'Project Name', 'S-OIL SHAHEEN Project',\n",
              "        'S-OIL SHAHEEN Project', '', '', '', '', 'Page 5 of 15', '',\n",
              "        'Page 5 of 15'],\n",
              "       ['', '', 'Material specification', '', '', '', '',\n",
              "        'Material specification', '', '', ''],\n",
              "       ['2|jacket', '2|jacket', '', '', 'Not Applicable',\n",
              "        'nuts,internal', 'nuts,internal', '', 'SA193 GrB8MACL', '', ''],\n",
              "       ['3 shell flanges', '3 shell flanges', '', '', 'Not Applicable',\n",
              "        'Not Applicable', '', '', '1A', '1A', ''],\n",
              "       ['', '4nozzles (line pipe', '', '', 'SA 105N', 'gaskets,external',\n",
              "        'gaskets,external', '', '[25]', '[25]', ''],\n",
              "       ['5nozzles (plate)', '5nozzles (plate)', '', '', 'Not Applicable',\n",
              "        'gaskets,internal', 'gaskets,internal', '', 'Not Applicable',\n",
              "        'Not Applicable', ''],\n",
              "       ['', '6cladding/lining of nozzles and manholes',\n",
              "        '6cladding/lining of nozzles and manholes', '', 'Not Applicable',\n",
              "        'grids/beams/supports', 'grids/beams/supports', '',\n",
              "        'Not Applicable', 'Not Applicable', ''],\n",
              "       ['7flanges', '7flanges', '', '', 'SA105N', 'impingement baffle',\n",
              "        'impingement baffle', '', 'SA516Gr', 'SA516Gr', ''],\n",
              "       ['8 reinforcing pads', '8 reinforcing pads', '', '',\n",
              "        'Not Applicable', 'Not Applicable', '', '', '70N+S17+HIC',\n",
              "        '70N+S17+HIC', ''],\n",
              "       ['9welding fittings', '9welding fittings', '', '',\n",
              "        'SA 234 Gr WPBN', 'wire gauze / tie wire',\n",
              "        'wire gauze / tie wire', '', 'Not Applicable', 'Not Applicable',\n",
              "        ''],\n",
              "       ['10stiffening rings', '10stiffening rings', '', '', 'SA 516Gr',\n",
              "        'downcomers', 'downcomers', '', 'Not Applicable',\n",
              "        'Not Applicable', ''],\n",
              "       ['11', '', '', '', '70N+S17+HIC', 'baffles', '', '', 'SA516Gr',\n",
              "        'SA516Gr', ''],\n",
              "       ['12', '', '', '', '', '', '', '', '70N+S17+HIC', '70N+S17+HIC',\n",
              "        ''],\n",
              "       ['13', '', '', '', '', 'Nozzles', '', '', '', '', ''],\n",
              "       ['14mark', '14mark', '', '', 'A1', '', 'A2', 'A3', 'B1', 'B1', ''],\n",
              "       ['15number required', '15number required', '', '', '1', '', '1',\n",
              "        '', '', '1', ''],\n",
              "       ['16service', '16service', '', '', 'SW inlet', '',\n",
              "        'Mounting flange', 'Nitrogen inlet', 'SW outlet', 'SW outlet',\n",
              "        ''],\n",
              "       ['17velocity', '17velocity', '', 'm/s', '[23]', '', '[23]',\n",
              "        '[23]', '[23]', '[23]', ''],\n",
              "       ['18nominal diameter', '18nominal diameter', '', '', '4', '',\n",
              "        '12', '2', '', '6', ''],\n",
              "       ['19flange rating', '19flange rating', '', '', '150lbs', '',\n",
              "        '150lbs', '300 lbs [23]', '150 lbs', '150 lbs', ''],\n",
              "       ['20 type', '20 type', '', '', 'SRWN [10]', '', 'SRWN [10]',\n",
              "        'SRWN [10]', 'SRWN [10]', 'SRWN [10]', ''],\n",
              "       ['', '21flange facing type', '', '', 'RF', '', 'RF', 'RF', 'RF',\n",
              "        'RF', ''],\n",
              "       ['22flange facing finish', '22flange facing finish', '', '',\n",
              "        '3,2-6,3m', '', '3,2-6,3 m', '3,2-6,3 m', '3,2-6,3 m',\n",
              "        '3,2-6,3 m', ''],\n",
              "       ['23remarks', '23remarks', '', '', 'With a Stilling Well',\n",
              "        'With a Stilling Well', '[12]', '', 'With Vortex Breaker', '',\n",
              "        ''],\n",
              "       ['24', '', '', '', '[11]', '', '[12]', '', 'With Vortex Breaker',\n",
              "        '', ''],\n",
              "       ['25', '', '', '', '', 'Nozzles', '', '', '', '', ''],\n",
              "       ['26mark', '26mark', '', '', 'B2', '', 'B3', 'D1-D3', 'S1-S2',\n",
              "        'S1-S2', ''],\n",
              "       ['27number required', '27number required', '', '', '1', '', '1',\n",
              "        '3', '', '2', ''],\n",
              "       ['28service', '28service', '', '', 'HC outlet', '',\n",
              "        'For Scrubber flange', 'Drain', 'Steam out', 'Steam out', ''],\n",
              "       ['29velocity', '29velocity', '', 'm/s', '[23]', '', '[23]',\n",
              "        '[23]', '[23]', '[23]', ''],\n",
              "       ['30nominal diameter', '30nominal diameter', '', '', '3', '',\n",
              "        '18', '3', '', '2', ''],\n",
              "       ['31flange rating', '31flange rating', '', '', '150lbs', '',\n",
              "        '150lbs', '150 lbs', '150lbs', '150lbs', ''],\n",
              "       ['32type', '32type', '', '', 'SRWN [10]', '', 'SRWN[10]',\n",
              "        'SRWN [10]', 'SRWN [10]', 'SRWN [10]', ''],\n",
              "       ['33flange facing type', '33flange facing type', '', '', 'RF', '',\n",
              "        'RF', 'RF', 'RF', 'RF', ''],\n",
              "       ['34flange facing finish', '34flange facing finish', '', '',\n",
              "        '3,2-6,3 m', '', '3,2-6,3 m', '3,2-6,3 m', '3,2-6,3 m',\n",
              "        '3,2-6,3 m', ''],\n",
              "       ['35remarks', '35remarks', '', '', '', '', '[13,18]',\n",
              "        'incl.cover,gasket &', 'incl.cover,gasket &',\n",
              "        'incl.cover,gasket &', ''],\n",
              "       ['36', '', '', '', '', '', '[13,18]', 'bolting', 'bolting',\n",
              "        'bolting', ''],\n",
              "       ['37', '', '', '', '', 'Nozzles', '', '', '', '', ''],\n",
              "       ['38mark', '38mark', '', '', 'R1', '', 'V1', 'V2', 'W', 'W', ''],\n",
              "       ['39number required', '39number required', '', '', '1', '', '1',\n",
              "        '1', '', '1', ''],\n",
              "       ['40service', '40service', '', '', 'Relief', '', 'Vent',\n",
              "        'Ventilation', 'Aux outlet', 'Aux outlet', ''],\n",
              "       ['41velocity', '41velocity', '', 'm/s', '[23]', '', '[23]',\n",
              "        '[23]', '[23]', '[23]', ''],\n",
              "       ['42nominal diameter', '42nominal diameter', '', '', '8', '', '2',\n",
              "        '8', '', '6', ''],\n",
              "       ['43flange rating', '43flange rating', '', '', '150 lbs [23]', '',\n",
              "        '300 Ibs [23]', '150lbs', '150 lbs', '150 lbs', ''],\n",
              "       ['44type', '44type', '', '', 'SRWN [10]', '', 'SRWN [10]',\n",
              "        'SRWN[10]', 'SRWN [10]', 'SRWN [10]', ''],\n",
              "       ['45flange facing type', '45flange facing type', '', '', 'RF', '',\n",
              "        'RF', 'RF', 'RF', 'RF', ''],\n",
              "       ['46flange facing finish', '46flange facing finish', '', '',\n",
              "        '3,2-6,3 m', '', '3,2-6,3m', '3,2-6,3 m', '3,2-6,3m', '3,2-6,3m',\n",
              "        ''],\n",
              "       ['47remarks', '47remarks', '', '', '', '', 'incl.cover,gasket &',\n",
              "        'incl.cover,gasket &', 'With Vortex Breaker', '', ''],\n",
              "       ['48', '', '', '', '', '', 'bolting', 'bolting',\n",
              "        'With Vortex Breaker', '', '']], dtype='<U40')"
            ]
          },
          "metadata": {},
          "execution_count": 79
        }
      ]
    },
    {
      "cell_type": "code",
      "source": [
        "pd.DataFrame(out_array).to_csv('sample.csv')"
      ],
      "metadata": {
        "id": "DmcirwATA-MD"
      },
      "execution_count": 80,
      "outputs": []
    },
    {
      "cell_type": "code",
      "source": [],
      "metadata": {
        "id": "PlMbn9RkBAFq"
      },
      "execution_count": null,
      "outputs": []
    }
  ],
  "metadata": {
    "colab": {
      "provenance": [],
      "mount_file_id": "1-cpPNf7uZrexw5B70ShD785zjdAFrDxH",
      "authorship_tag": "ABX9TyMnp0ZKlYn4SoLUK6I+mv80"
    },
    "kernelspec": {
      "display_name": "Python 3",
      "name": "python3"
    },
    "language_info": {
      "name": "python"
    }
  },
  "nbformat": 4,
  "nbformat_minor": 0
}